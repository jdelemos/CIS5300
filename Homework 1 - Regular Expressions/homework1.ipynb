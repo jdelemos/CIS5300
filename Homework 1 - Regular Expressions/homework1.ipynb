{
  "cells": [
    {
      "cell_type": "markdown",
      "metadata": {
        "id": "o2qbbsDMKyNC"
      },
      "source": [
        "\n",
        "# Homework 1: Intro to Regular Expressions and Tokenization\n",
        "## Total Points: 66 points\n",
        "- **Overview**: This week we will start writing some code! We will be using Python Notebooks for most of this course, and this assignment examines your skills writing regular expressions and string processing in Python.\n",
        "\n",
        "- **Relevant Textbook**: This homework assignment corresponds to the reading in _Speech and Language Processing_ Chapter 2: [Regular Expressions, Text Normalization, Edit Distance](https://web.stanford.edu/~jurafsky/slp3/2.pdf).\n",
        "\n",
        "- **Grading**: We will use the auto-grading system called `PennGrader`. To complete the homework assignment, you should implement anything marked with `#TODO` and run the cell with `#PennGrader` note. **There will be no hidden tests in this assignment.** In other words, you will know your score once you finish all the `#TODO` and run all the `#PennGrader` tests!\n",
        "## To get started, **make a copy** of this colab notebook into your google drive!"
      ]
    },
    {
      "cell_type": "markdown",
      "metadata": {
        "id": "IDv9qN5c9357"
      },
      "source": [
        "## Setup 1: PennGrader Setup - 4 points"
      ]
    },
    {
      "cell_type": "code",
      "source": [
        "## DO NOT CHANGE ANYTHING, JUST RUN\n",
        "%%capture\n",
        "!pip install huggingface_hub datasets --upgrade"
      ],
      "metadata": {
        "id": "3VjTnZ05M184"
      },
      "execution_count": 228,
      "outputs": []
    },
    {
      "cell_type": "code",
      "source": [
        "## DO NOT CHANGE ANYTHING, JUST RUN\n",
        "%%capture\n",
        "!pip install penngrader-client"
      ],
      "metadata": {
        "id": "jpSjR2N19kk4"
      },
      "execution_count": 229,
      "outputs": []
    },
    {
      "cell_type": "code",
      "source": [
        "%%writefile notebook-config.yaml\n",
        "\n",
        "grader_api_url: 'https://23whrwph9h.execute-api.us-east-1.amazonaws.com/default/Grader23'\n",
        "grader_api_key: 'flfkE736fA6Z8GxMDJe2q8Kfk8UDqjsG3GVqOFOa'"
      ],
      "metadata": {
        "id": "FvPA8Z2D9ki_",
        "colab": {
          "base_uri": "https://localhost:8080/"
        },
        "outputId": "1313ffe9-8abc-48ae-a35f-4409e8ff8ddb"
      },
      "execution_count": 230,
      "outputs": [
        {
          "output_type": "stream",
          "name": "stdout",
          "text": [
            "Overwriting notebook-config.yaml\n"
          ]
        }
      ]
    },
    {
      "cell_type": "code",
      "source": [
        "!cat notebook-config.yaml"
      ],
      "metadata": {
        "id": "xbeXT4Oj9kg_",
        "colab": {
          "base_uri": "https://localhost:8080/"
        },
        "outputId": "02c60969-7cc0-4551-ccf1-2e331da96c2c"
      },
      "execution_count": 231,
      "outputs": [
        {
          "output_type": "stream",
          "name": "stdout",
          "text": [
            "\n",
            "grader_api_url: 'https://23whrwph9h.execute-api.us-east-1.amazonaws.com/default/Grader23'\n",
            "grader_api_key: 'flfkE736fA6Z8GxMDJe2q8Kfk8UDqjsG3GVqOFOa'\n"
          ]
        }
      ]
    },
    {
      "cell_type": "code",
      "source": [
        "from penngrader.grader import *\n",
        "\n",
        "## TODO: enter your Penn-ID\n",
        "STUDENT_ID = 63833115  # YOUR PENN-ID GOES HERE AS AN INTEGER#\n",
        "\n",
        "SECRET = STUDENT_ID\n",
        "grader = PennGrader('notebook-config.yaml', 'CIS5300_OL_23Su_HW1', STUDENT_ID, SECRET)"
      ],
      "metadata": {
        "id": "OceP0Hr-9kfC",
        "colab": {
          "base_uri": "https://localhost:8080/"
        },
        "outputId": "989e740d-25e8-4843-ff2a-122692050628"
      },
      "execution_count": 232,
      "outputs": [
        {
          "output_type": "stream",
          "name": "stdout",
          "text": [
            "PennGrader initialized with Student ID: 63833115\n",
            "\n",
            "Make sure this correct or we will not be able to store your grade\n"
          ]
        }
      ]
    },
    {
      "cell_type": "code",
      "source": [
        "# check if the PennGrader is set up correctly\n",
        "# do not chance this cell, see if you get 4/4!\n",
        "name_str = 'Jonathon Delemos' # TODO: enter your name\n",
        "grader.grade(test_case_id = 'name_test', answer = name_str)"
      ],
      "metadata": {
        "id": "k5lAgKaYa-uN",
        "colab": {
          "base_uri": "https://localhost:8080/"
        },
        "outputId": "9667a818-98d3-4911-c1af-56f80f6c1d1d"
      },
      "execution_count": 233,
      "outputs": [
        {
          "output_type": "stream",
          "name": "stdout",
          "text": [
            "Correct! You earned 4/4 points. You are a star!\n",
            "\n",
            "Your submission has been successfully recorded in the gradebook.\n"
          ]
        }
      ]
    },
    {
      "cell_type": "markdown",
      "metadata": {
        "id": "wHeB9GLB-PO1"
      },
      "source": [
        "## Setup 2: Packages\n",
        "- **Run the following cells without changing anything!**"
      ]
    },
    {
      "cell_type": "code",
      "execution_count": 234,
      "metadata": {
        "id": "E6qSD12uEx4T"
      },
      "outputs": [],
      "source": [
        "from tqdm import tqdm\n",
        "import numpy as np\n",
        "import copy\n",
        "import requests\n",
        "import re\n",
        "from collections import defaultdict\n",
        "from dill.source import getsource"
      ]
    },
    {
      "cell_type": "code",
      "execution_count": 235,
      "metadata": {
        "id": "W6zIq0k1DYZn",
        "colab": {
          "base_uri": "https://localhost:8080/"
        },
        "outputId": "8383415f-9dfd-4c79-837d-7a014f234755"
      },
      "outputs": [
        {
          "output_type": "stream",
          "name": "stderr",
          "text": [
            "[nltk_data] Downloading package punkt to /root/nltk_data...\n",
            "[nltk_data]   Package punkt is already up-to-date!\n"
          ]
        },
        {
          "output_type": "execute_result",
          "data": {
            "text/plain": [
              "True"
            ]
          },
          "metadata": {},
          "execution_count": 235
        }
      ],
      "source": [
        "import nltk\n",
        "from nltk import word_tokenize\n",
        "nltk.download('punkt')"
      ]
    },
    {
      "cell_type": "markdown",
      "source": [
        "# Section 1. Regular Expressions Basics [15 points]"
      ],
      "metadata": {
        "id": "XAaWCaMtxgtf"
      }
    },
    {
      "cell_type": "markdown",
      "metadata": {
        "id": "D9BTiWiXHZDk"
      },
      "source": [
        "\n",
        "- [Regular Expression Cheatsheet](https://cheatography.com/davechild/cheat-sheets/regular-expressions/)\n",
        "- [Python Official RE Guide](https://docs.python.org/3/library/re.html)\n",
        "- [W3School Re Guide](https://www.w3schools.com/python/python_regex.asp)\n",
        "- [Regex Exercises](https://www.w3resource.com/python-exercises/re/)\n",
        "\n",
        "![Benjamin Bannekat](https://www.pixelsham.com/wp-content/uploads/2020/05/REGEX.png)"
      ]
    },
    {
      "cell_type": "markdown",
      "metadata": {
        "id": "RZl7PgJ4If6b"
      },
      "source": [
        "In this section, we will explore basic usage of regular expressions in natural language processing, including three main functionalities:\n",
        "- `search`: find the first matching pattern (if there is a match anywhere in the string)\n",
        "- `findall`: find all of the matching patterns\n",
        "- `sub`: replaces one or many matches with a string"
      ]
    },
    {
      "cell_type": "code",
      "execution_count": 236,
      "metadata": {
        "id": "JbG8ozvSF--s"
      },
      "outputs": [],
      "source": [
        "### Helper function ###\n",
        "### DO NOT CHANGE ###\n",
        "from bs4 import BeautifulSoup\n",
        "def get_text_from_url(url):\n",
        "    headers = {'User-Agent': 'Mozilla/5.0 (Windows NT 10.0; Win64; x64) AppleWebKit/537.36 (KHTML, like Gecko) Chrome/111.0.0.0 Safari/537.36'}\n",
        "    response = requests.get(url, headers=headers)\n",
        "    soup = BeautifulSoup(response.text, features=\"html.parser\")\n",
        "    for script in soup([\"script\", \"style\"]):\n",
        "        script.extract()\n",
        "    text = soup.get_text()\n",
        "\n",
        "    text = re.sub('\\n+', '\\n', text)\n",
        "    return text\n",
        "### DO NOT CHANGE ###"
      ]
    },
    {
      "cell_type": "markdown",
      "metadata": {
        "id": "mgz1ebO_QwNW"
      },
      "source": [
        "## 1.1 re.search"
      ]
    },
    {
      "cell_type": "markdown",
      "source": [
        "Your very first task is utilizing `re.search()` to find specific patterns from a text."
      ],
      "metadata": {
        "id": "S_qYtVIUUI3-"
      }
    },
    {
      "cell_type": "markdown",
      "metadata": {
        "id": "7otylXfoR5aK"
      },
      "source": [
        "- **Problem 1.1:** search for the word \"food\"\n",
        "    - **Overview**: Implement the function `find_food()` that determines if the word \"food\" appears in the string.\n",
        "    - **Input**: a string\n",
        "    - **Output**: `True` or `False`\n",
        "    - **Requirements**:\n",
        "        - Functionality: The function returns True if the word \"food\" is found in the input string, and False otherwise. It also accepts **potential typos**, e.g. \"fooood\".\n",
        "        - To be specific, valid \"food\" entry should have 1) one \"f\" at the beginning 2) two or more \"o\"s 3) one \"d\" at the end\n",
        "    - **Examples**:\n",
        "        - `find_food(\"foooood\")`: `True`\n",
        "        - `find_food(\"foodddd\")`: `False`\n",
        "        - `find_food(\"fod\")`: `False`\n",
        "        - `find_food(\"food!!!\")`: `True`\n",
        "        - `find_food(\"I like fooood!!\")`: `True`\n",
        "        - `find_food(\"foodie\")`: `False`"
      ]
    },
    {
      "cell_type": "code",
      "execution_count": 237,
      "metadata": {
        "id": "oRY4SptyQtwM"
      },
      "outputs": [],
      "source": [
        "def find_food(text):\n",
        "    \"\"\"\n",
        "    Search for the word \"food\" in the text. More than two \"o\"s is also accepted.\n",
        "    Use re.search()\n",
        "    @param text: the string to be searched\n",
        "    @return: True if \"food\" is found, False if not\n",
        "    \"\"\"\n",
        "    # TODO\n",
        "    pattern = r'\\bfoo[o]*d\\b'\n",
        "    if re.search(pattern, text):\n",
        "       return True\n",
        "    else:\n",
        "       return False\n"
      ]
    },
    {
      "cell_type": "code",
      "execution_count": 238,
      "metadata": {
        "id": "5hExkHl2SstJ",
        "colab": {
          "base_uri": "https://localhost:8080/"
        },
        "outputId": "b55325e1-c433-47b9-c7df-0396b78351b4"
      },
      "outputs": [
        {
          "output_type": "stream",
          "name": "stdout",
          "text": [
            "Correct! You earned 5/5 points. You are a star!\n",
            "\n",
            "Your submission has been successfully recorded in the gradebook.\n"
          ]
        }
      ],
      "source": [
        "# PennGrader - DO NOT CHANGE\n",
        "grader.grade(test_case_id = 'test_q1_food_regex_function', answer = getsource(find_food))"
      ]
    },
    {
      "cell_type": "markdown",
      "metadata": {
        "id": "mdQBTs_7UB5b"
      },
      "source": [
        "## 1.2 re.findall\n",
        "The second exercise is using `re.findall()` to find all non-overlapping matches of pattern in string.\n",
        "\n",
        "As an example, we will first take a look at this [website](https://www.presidentsusa.net/birth.html), which stores all the birthdays of U.S presidents. We will try to parse all the birthdays from this website."
      ]
    },
    {
      "cell_type": "code",
      "execution_count": 239,
      "metadata": {
        "id": "LvYX80e0PQaA",
        "colab": {
          "base_uri": "https://localhost:8080/"
        },
        "outputId": "57b2088e-b3c6-48fb-eb44-18132bf52e73"
      },
      "outputs": [
        {
          "output_type": "stream",
          "name": "stdout",
          "text": [
            "ï»¿\n",
            "U.S. Presidents Birthplaces, Birthdate, and Death information\n",
            " \n",
            " \n",
            "U.S. Presidents Birthplaces and Location of Death\n",
            "The list below shows when and where every president was born and died. Clicking the birthplace location will display photographs of the site where each president was born.\n",
            "President\n",
            "Birth Date\n",
            "Birth Place\n",
            "Death Date\n",
            "Location of Death\n",
            "George Washington\n",
            "Feb 22, 1732\n",
            "Westmoreland Co., Va.\n",
            "Dec 14, 1799\n",
            "Mount Vernon, Va.\n",
            "John Adams\n",
            "Oct 30, 1735\n",
            "Quincy, Mass.\n",
            "July 4, 1826\n",
            "Quincy, Mas\n"
          ]
        }
      ],
      "source": [
        "### Read text data ###\n",
        "### DO NOT CHANGE ###\n",
        "web_text = get_text_from_url('https://www.presidentsusa.net/birth.html')\n",
        "print(web_text[:500]) # let's print the first 500 char\n",
        "### DO NOT CHANGE ###"
      ]
    },
    {
      "cell_type": "code",
      "execution_count": 240,
      "metadata": {
        "id": "VdZhowYJPVRl",
        "colab": {
          "base_uri": "https://localhost:8080/"
        },
        "outputId": "0cd773f4-0aa8-4906-f960-5af8440ab781"
      },
      "outputs": [
        {
          "output_type": "stream",
          "name": "stderr",
          "text": [
            "<>:2: SyntaxWarning: invalid escape sequence '\\d'\n",
            "<>:2: SyntaxWarning: invalid escape sequence '\\d'\n",
            "/tmp/ipython-input-1146237472.py:2: SyntaxWarning: invalid escape sequence '\\d'\n",
            "  date_pattern = '[A-Za-z]{3,4} \\d{1,2}, \\d{4}' # can you understand what it is trying to do?\n"
          ]
        },
        {
          "output_type": "execute_result",
          "data": {
            "text/plain": [
              "85"
            ]
          },
          "metadata": {},
          "execution_count": 240
        }
      ],
      "source": [
        "# find all the birthdays in the website\n",
        "date_pattern = '[A-Za-z]{3,4} \\d{1,2}, \\d{4}' # can you understand what it is trying to do?\n",
        "all_dates = re.findall(date_pattern, web_text)\n",
        "len(all_dates) # how many birthdays are there?"
      ]
    },
    {
      "cell_type": "code",
      "execution_count": 241,
      "metadata": {
        "id": "un-1gFYDTq84",
        "colab": {
          "base_uri": "https://localhost:8080/"
        },
        "outputId": "817cfe1f-d925-4ed4-cf80-a9eac21de6a1"
      },
      "outputs": [
        {
          "output_type": "execute_result",
          "data": {
            "text/plain": [
              "['Feb 22, 1732',\n",
              " 'Dec 14, 1799',\n",
              " 'Oct 30, 1735',\n",
              " 'July 4, 1826',\n",
              " 'Apr 13, 1743']"
            ]
          },
          "metadata": {},
          "execution_count": 241
        }
      ],
      "source": [
        "all_dates[:5] # check out some of the matches!"
      ]
    },
    {
      "cell_type": "markdown",
      "metadata": {
        "id": "nNxCvxnkLo_E"
      },
      "source": [
        "Now it's your turn. Please use `re.findall()` and try to to parse email addresses.\n",
        "\n",
        "- **Problem 1.2:** search for emails\n",
        "    - **Overview**: Implement the function `find_email()` to find **all the emails** from the input text. We will look for emails of the faculties at [Penn Engineering Online](https://online.seas.upenn.edu/about/faculty-directory/)\n",
        "    - **Input**: a string\n",
        "    - **Output**: a list of strings\n",
        "    - **Requirements**:\n",
        "        - Return a list of valid emails found in the input string\n",
        "        - You may assume all the emails end with `.edu` or `.com`\n",
        "        - You may use no more than 2 regex patterns\n",
        "    - **Caveat**: When using `findall()`, be careful of using parentheses. Anything you have in parentheses () will be a capture group, which may have different behavior than you expect. Check [the documentation](https://docs.python.org/3/howto/regex.html) for detailed explanation."
      ]
    },
    {
      "cell_type": "code",
      "execution_count": 242,
      "metadata": {
        "id": "2iL5-r0CJXIM",
        "colab": {
          "base_uri": "https://localhost:8080/"
        },
        "outputId": "cbb5816c-87ea-4aba-d07e-53ff198b23a0"
      },
      "outputs": [
        {
          "output_type": "stream",
          "name": "stdout",
          "text": [
            "Qs\n",
            "Faculty Directory\n",
            "Home\n",
            "            About Us          \n",
            "Faculty Directory\n",
            "              About Us            \n",
            "Faculty Leadership \n",
            "Boon Thau Loo\n",
            "RCA Professor, Department of Computer and Information Science\n",
            "Senior Associate Dean for Education and Global Initiatives — School of Engineering and Applied Science\n",
            "Director, Distributed Systems Laboratory\n",
            "Email: boonloo@cis.upenn.edu \n",
            "Tom Farmer\n",
            "Program Director, Online Master of Computer and Information Technology\n",
            "Senior Lecturer, Department of Electrical and Systems Engineering & Department of Computer and Information Science\n",
            "Email: tfarmer@seas.upenn.edu \n",
            "James C. Gee\n",
            "Program Director, Online Master of Science in Engineering in Data Science\n",
            "Professor, Department of Radiology (Perelman School of Medicine) and Department of Computer and Information Science (School of Engineering and Applied Science)\n",
            "Director, Penn Image Computing and Science Laboratory | Co-Director, Translational Biomedical Imaging Center | Director, Inte\n"
          ]
        }
      ],
      "source": [
        "### Read text data ###\n",
        "### DO NOT CHANGE ###\n",
        "url = 'https://online.seas.upenn.edu/about/faculty-directory/'\n",
        "penn_online_text = get_text_from_url(url)\n",
        "print(penn_online_text[1620:2600]) # check what it looks like\n",
        "### DO NOT CHANGE ###"
      ]
    },
    {
      "cell_type": "code",
      "execution_count": 243,
      "metadata": {
        "id": "akPKglsELvMn"
      },
      "outputs": [],
      "source": [
        "def find_email(text):\n",
        "    \"\"\"\n",
        "    Find all the valid email addresses from the text, which ends with .edu or .com\n",
        "    Use re.findall() with no more than 2 patterns\n",
        "\n",
        "    @param text: the string to be searched\n",
        "    @return: a list of valid emails\n",
        "    \"\"\"\n",
        "    # TODO\n",
        "\n",
        "    email_pattern = r\"\\b[A-Za-z0-9]+@[A-Za-z0-9]+[.]*[A-Za-z0-9]*[.](?:edu|com)\\b\"\n",
        "    email_lst = re.findall(email_pattern, text)\n",
        "    return email_lst"
      ]
    },
    {
      "cell_type": "code",
      "source": [
        "emails_found = find_email(penn_online_text)\n",
        "assert 'ccb@upenn.edu' in emails_found, \"CCB's email not found\" # this should return nothing if CCB's email is found"
      ],
      "metadata": {
        "id": "VOPyUc_NLuI3"
      },
      "execution_count": 244,
      "outputs": []
    },
    {
      "cell_type": "code",
      "source": [
        "# PennGrader - DO NOT CHANGE\n",
        "grader.grade(test_case_id = 'test_q12_email_regex_function', answer = emails_found)"
      ],
      "metadata": {
        "id": "spXAio-rL1D9",
        "colab": {
          "base_uri": "https://localhost:8080/"
        },
        "outputId": "e4ee80eb-b5ae-4494-b1fa-70240c805b5b"
      },
      "execution_count": 245,
      "outputs": [
        {
          "output_type": "stream",
          "name": "stdout",
          "text": [
            "Correct! You earned 5/5 points. You are a star!\n",
            "\n",
            "Your submission has been successfully recorded in the gradebook.\n"
          ]
        }
      ]
    },
    {
      "cell_type": "markdown",
      "metadata": {
        "id": "m6wNPjpBJABH"
      },
      "source": [
        "## 1.3 re.sub\n",
        "\n",
        "\n",
        "In this problem, we will work with the Wikipedia webpage containing a [List of people from New Jersey](https://simple.wikipedia.org/wiki/List%20of%20people%20from%20New%20Jersey).\n",
        "\n",
        "In this website, people who are still living are originally labeled with their birth year. Here, your task is to use the `re.sub()` function to label them as \"still active nowadays\". For example, \"Gerard Way (born 1977)\" should be updated to \"Gerard Way (still active nowadays)\".\n",
        "\n",
        "Please note that we don't want to change the format for people who are no longer living, such as \"Sarah Vaughan (1924–1990)\"\n"
      ]
    },
    {
      "cell_type": "code",
      "execution_count": 246,
      "metadata": {
        "id": "UrX3j0CNK93O",
        "colab": {
          "base_uri": "https://localhost:8080/"
        },
        "outputId": "dce52224-fd2d-4530-9030-3f57e9a08b23"
      },
      "outputs": [
        {
          "output_type": "stream",
          "name": "stdout",
          "text": [
            " Forbes\n",
            "Todd Frazier\n",
            "Isa Abdul-Quddus (born 1988), safety for the Detroit Lions (Union)\n",
            "Joseph Alexander Adams (1803–1880), engraver (born in New Germantown)[1]\n",
            "Mike Adams (born 1981), safety for the Indianapolis Colts (Paterson)\n",
            "Timothy Adams (born 1967), actor, Sunset Beach, Ocean Ave. (Belleville)\n",
            "Charles Addams (1912-1988), cartoonist; creator of The Addams Family (Westfield)\n",
            "Jordan Alan (born 1967), filmmaker (Bayonne)\n",
            "Mitch Albom (born 1958), writer, broadcaster, and musician (Passaic)\n",
            "Edwin \"Buzz\" Aldrin (born 1930) NASA, astronaut, second man to walk on the moon (born in Glen Ridge, grew up in Montclair)\n",
            "Jason Alexander (born 1959), actor, George Costanza on Seinfeld (Newark, raised in Livingston)\n",
            "Samuel Alito (born 1950), U.S. Supreme Court justice (Trenton, raised in Hamilton)\n",
            "Malik Allen (born 1978), NBA\n"
          ]
        }
      ],
      "source": [
        "### Read text data ###\n",
        "### DO NOT CHANGE  ###\n",
        "q13_text = get_text_from_url('https://simple.wikipedia.org/wiki/List_of_people_from_New_Jersey')\n",
        "print(q13_text[1913:2739]) # check what it looks like\n",
        "### DO NOT CHANGE  ###"
      ]
    },
    {
      "cell_type": "markdown",
      "metadata": {
        "id": "PtevvqGsHcJm"
      },
      "source": [
        "- **Problem 1.3**: substitute date format for all active people\n",
        "    - **Overview**: Implement the function `change_date_format()` to replace all \"(born xxxx)\" with \"(still active nowadays)\" in the input text.\n",
        "    - **Input**: text that contains information of notable people from [New Jersey](https://simple.wikipedia.org/wiki/List%20of%20people%20from%20New%20Jersey) (`q13_text`)\n",
        "    - **Output**: the modified document as a string\n",
        "    - **Example**:  \n",
        "\n",
        "```\n",
        "\"...\n",
        "Isa Abdul-Quddus (born 1988), safety for the Detroit Lions (Union)\n",
        "Joseph Alexander Adams (1803–1880), engraver (born in New Germantown)[1]\n",
        "Mike Adams (born 1981), safety for the Indianapolis Colts (Paterson)\n",
        "...\"\n",
        "```\n",
        "\n",
        "\n",
        "->\n",
        "\n",
        "\n",
        "```\n",
        "\"...\n",
        "Isa Abdul-Quddus (still active nowadays), safety for the Detroit Lions (Union)\n",
        "Joseph Alexander Adams (1803–1880), engraver (born in New Germantown)[1]\n",
        "Mike Adams (still active nowadays), safety for the Indianapolis Colts (Paterson)\n",
        "...\"\n",
        "```\n",
        "\n"
      ]
    },
    {
      "cell_type": "code",
      "execution_count": 247,
      "metadata": {
        "id": "5Bi8j9h5GdXR"
      },
      "outputs": [],
      "source": [
        "def change_date_format(text):\n",
        "    \"\"\"\n",
        "    Replace all the \"(born in xxxx)\" with \"(still active nowadays)\" in the text.\n",
        "    Use re.sub()\n",
        "\n",
        "    @param text: the string to be searched\n",
        "    @return: the modified document\n",
        "    \"\"\"\n",
        "    # TODO\n",
        "    birth_pattern = r'\\(born [0-9]{4}\\)'\n",
        "    new_birth_pattern = '(still active nowadays)'\n",
        "    modified_text = re.sub(birth_pattern, new_birth_pattern, text)\n",
        "    print(modified_text)\n",
        "    return modified_text\n"
      ]
    },
    {
      "cell_type": "code",
      "source": [
        "q13_text_sub = change_date_format(q13_text)\n",
        "assert \"born 19\" not in q13_text_sub[1913:2785], \"not correctly modified\"\n",
        "assert \"still active nowadays\" in q13_text_sub[1913:2785], \"not correctly modified\""
      ],
      "metadata": {
        "id": "qSxyuXvpPWwi",
        "colab": {
          "base_uri": "https://localhost:8080/"
        },
        "outputId": "31a3c7eb-4206-4e66-d1cc-37d26f821dcf"
      },
      "execution_count": 248,
      "outputs": [
        {
          "output_type": "stream",
          "name": "stdout",
          "text": [
            "\n",
            "List of people from New Jersey - Simple English Wikipedia, the free encyclopedia\n",
            "Jump to content\n",
            "Main menu\n",
            "Main menu\n",
            "move to sidebar\n",
            "hide\n",
            "\t\tGetting around\n",
            "\t\n",
            "Main pageSimple startSimple talkNew changesShow any pageHelpContact usAbout WikipediaSpecial pages\n",
            "Search\n",
            "Search\n",
            "Appearance\n",
            "Give to Wikipedia\n",
            "Create account\n",
            "Log in\n",
            "Personal tools\n",
            "Give to Wikipedia Contribute Create account Log in\n",
            "\t\tPages for logged out editors learn more\n",
            "Talk\n",
            "Contents\n",
            "move to sidebar\n",
            "hide\n",
            "Beginning\n",
            "1\n",
            "Notable people born and/or raised in New Jersey\n",
            "Toggle Notable people born and/or raised in New Jersey subsection\n",
            "1.1\n",
            "A – F\n",
            "1.2\n",
            "G – R\n",
            "1.3\n",
            "S – Z\n",
            "2\n",
            "Born elsewhere, grew up in New Jersey\n",
            "3\n",
            "Born in New Jersey, grew up elsewhere\n",
            "4\n",
            "Born elsewhere, live in New Jersey\n",
            "5\n",
            "Related pages\n",
            "6\n",
            "References\n",
            "Toggle the table of contents\n",
            "List of people from New Jersey\n",
            "2 languages\n",
            "EnglishRomână\n",
            "Change links\n",
            "PageTalk\n",
            "English\n",
            "ReadChangeChange sourceView history\n",
            "Tools\n",
            "Tools\n",
            "move to sidebar\n",
            "hide\n",
            "\t\tActions\n",
            "\t\n",
            "ReadChangeChange sourceView history\n",
            "\t\tGeneral\n",
            "\t\n",
            "What links hereRelated changesUpload filePermanent linkPage informationCite this pageGet shortened URLDownload QR code\n",
            "\t\tPrint/export\n",
            "\t\n",
            "Make a bookDownload as PDFPage for printing\n",
            "\t\tIn other projects\n",
            "\t\n",
            "Wikidata item\n",
            "Appearance\n",
            "move to sidebar\n",
            "hide\n",
            "From Simple English Wikipedia, the free encyclopedia\n",
            "State flag of New Jersey\n",
            "The following is a list of notable people from the U.S. state of New Jersey.\n",
            "This is a dynamic list and may never be able to satisfy particular standards for completeness. You can help by adding missing items with reliable sources.\n",
            "Notable people born and/or raised in New Jersey[change | change source]\n",
            "A – F[change | change source]\n",
            "Jason Alexander\n",
            "Samuel Alito\n",
            "Count Basie\n",
            "Jon Bon Jovi\n",
            "William Brennan, Jr.\n",
            "Andrew Bynum\n",
            "Bobby Cannavale\n",
            "Iván Castro\n",
            "Harlan Coben\n",
            "Lou Costello\n",
            "Valerie Cruz\n",
            "Victor Cruz\n",
            "Danny DeVito\n",
            "Michael Douglas\n",
            "Janet Evanovich\n",
            "Vera Farmiga\n",
            "Joe Flacco\n",
            "Steve Forbes\n",
            "Todd Frazier\n",
            "Isa Abdul-Quddus (still active nowadays), safety for the Detroit Lions (Union)\n",
            "Joseph Alexander Adams (1803–1880), engraver (born in New Germantown)[1]\n",
            "Mike Adams (still active nowadays), safety for the Indianapolis Colts (Paterson)\n",
            "Timothy Adams (still active nowadays), actor, Sunset Beach, Ocean Ave. (Belleville)\n",
            "Charles Addams (1912-1988), cartoonist; creator of The Addams Family (Westfield)\n",
            "Jordan Alan (still active nowadays), filmmaker (Bayonne)\n",
            "Mitch Albom (still active nowadays), writer, broadcaster, and musician (Passaic)\n",
            "Edwin \"Buzz\" Aldrin (still active nowadays) NASA, astronaut, second man to walk on the moon (born in Glen Ridge, grew up in Montclair)\n",
            "Jason Alexander (still active nowadays), actor, George Costanza on Seinfeld (Newark, raised in Livingston)\n",
            "Samuel Alito (still active nowadays), U.S. Supreme Court justice (Trenton, raised in Hamilton)\n",
            "Malik Allen (still active nowadays), NBA player (Willingboro)\n",
            "John Amos (still active nowadays), actor, The Fresh Prince of Bel-Air, Good Times, The West Wing (Newark)\n",
            "Richard Anderson (still active nowadays), actor, The Six Million Dollar Man, Kung Fu, The Bionic Woman (Long Branch)\n",
            "Jack Antonoff (still active nowadays), musician, guitarist for the band Fun (Bergenfield)\n",
            "Kristina Apgar (still active nowadays), actress, Privileged (Morristown)\n",
            "Billy Ard (still active nowadays), NFL player for New York Giants and Green Bay Packers (East Orange, raised in Watchung)\n",
            "Chris Argyris (1923-2013), business theorist, Professor Emeritus at Harvard Business School, and a Thought Leader at Monitor Group (Newark)\n",
            "Bruce Arians (still active nowadays), head coach for Arizona Cardinals (Paterson)\n",
            "Allan Arkush (still active nowadays), film and television director (Jersey City)\n",
            "Jillian Armenante (still active nowadays), actress, Judging Amy (Paterson)\n",
            "Rich Attonito (still active nowadays), mixed martial artist (Elizabeth)\n",
            "Paul Auster (still active nowadays), author, screenwriter (born in Newark, grew up in South Orange)\n",
            "Miles Austin (still active nowadays), wide receiver for the Dallas Cowboys (born in Summit, grew up in Garfield\n",
            "Melissa Bacelar (still active nowadays), actress and scream queen (Piscataway)\n",
            "Bret Baier (still active nowadays), news anchor for the Fox News Channel, Special Report with Bret Baier (Rumson)\n",
            "Andrew Bailey (still active nowadays), pitcher for the Boston Red Sox (Haddon Heights)\n",
            "David Bailey (1933–2004), actor, Another World (Voorhees)\n",
            "Amiri Baraka (1934–2014), poet (Newark)\n",
            "Michael Barkann (still active nowadays), radio talk show host, television host (East Brunswick)\n",
            "James J. Barry, Jr. (still active nowadays), politician (Orange, raised in New Vernon)\n",
            "Rick Barry (still active nowadays), NBA and ABA small forward and Hall of Fame inductee (Elizabeth, grew up in Roselle Park)\n",
            "James Barton (1890–1962), actor (Gloucester City)\n",
            "Danny Basavich (still active nowadays), professional pool player (Manalapan)\n",
            "Dana Bash (still active nowadays), CNN reporter and anchorwoman (Montvale)\n",
            "Count Basie (1904–1984), jazz pianist, organist, bandleader (Red Bank)\n",
            "Emma Bell (still active nowadays), actress (Woodstown)\n",
            "Madeline Bell (still active nowadays), soul singer (Newark)\n",
            "Bill Bellamy (still active nowadays), actor, comedian (Newark)\n",
            "Regina Belle (still active nowadays), singer (Englewood)\n",
            "Stephen Benkovic (still active nowadays), chemist, National Academy of Sciences inductee (Orange)\n",
            "Joan Bennett (1910–1990), actress (Palisades Park)\n",
            "Kafi Benz (still active nowadays), writer and conservationist (Chatham)\n",
            "Xander Berkeley (still active nowadays), actor (Mendham)\n",
            "Adam Bernstein (still active nowadays), video director and producer (Princeton)\n",
            "Mike Bibby (still active nowadays), NBA player (Cherry Hill)\n",
            "Jack Bicknell, Jr. (still active nowadays), offensive line coach for the Kansas City Chiefs (North Plainfield)\n",
            "Bam Bam Bigelow (1961–2007), professional wrestler (Asbury Park)\n",
            "Jason Biggs (still active nowadays), actor (Hasbrouck Heights)\n",
            "Mary Birdsong (still active nowadays), actress, comedian Reno 911! (Long Beach Island)\n",
            "Roger Birnbaum (born c. 1950), film producer, Four Christmases, 27 Dresses, Eight Below, Mr. 3000, Six Days Seven Nights (Teaneck)\n",
            "Vivian Blaine (1921–1995), actress and singer, Guys and Dolls (Newark)\n",
            "Betsy Blair (1923-2009), actress, Marty (Cliffside Park)\n",
            "Tammy Blanchard (still active nowadays), actress (Bayonne)\n",
            "Carol Blazejowski (still active nowadays), Hall of Fame basketball player (Elizabeth)\n",
            "Al Blozis (1919–1945), New York Giants tackle, who died as a soldier in combat during World War II (Garfield)\n",
            "Mark Blum (still active nowadays), actor (Newark)\n",
            "Peter Boettke (still active nowadays), economist of the Austrian School (Rahway)\n",
            "Tim Bogert (still active nowadays), bass guitarist and vocalist for Vanilla Fudge, Cactus, and Beck, Bogert & Appice (Ridgefield)\n",
            "Clint Bolick (still active nowadays), attorney and prominent school choice advocate (Elizabeth)\n",
            "Jon Bon Jovi (still active nowadays), musician (Sayreville) born in Perth Amboy\n",
            "Denise Borino-Quinn (1964–2010), actress, Ginny Sacramoni on The Sopranos (Roseland)\n",
            "Joe Borowski (still active nowadays), former MLB pitcher, current sportscaster for the Arizona Diamondbacks (Bayonne)\n",
            "Philip Bosco (still active nowadays), actor (Jersey City)\n",
            "Dennis Boutsikaris (still active nowadays), actor (Newark)\n",
            "Katrina Bowden (still active nowadays), actress, Cerie on 30 Rock (Wyckoff)\n",
            "Todd Bowles (still active nowadays), defensive coordinator for the Philadelphia Eagles (Elizabeth)\n",
            "Joseph Boyce (still active nowadays), actor, director, producer, screenwriter and voice artist\n",
            "Brad Brach (still active nowadays), relief pitcher for the Baltimore Orioles (Freehold)\n",
            "Gary Brackett (still active nowadays),  middle linebacker for the Indianapolis Colts (Glassboro)\n",
            "Zach Braff (still active nowadays), actor, Scrubs (South Orange)\n",
            "Debbie Bramwell-Washington (still active nowadays), IFBB professional bodybuilder\n",
            "John Brennan (still active nowadays), Director of the Central Intelligence Agency (North Bergen)\n",
            "William J. Brennan, Jr. (1906–1997), U.S. Supreme Court justice (Newark)\n",
            "David Brewster, publisher and journalist (Newark)\n",
            "Ralph L. Brinster (still active nowadays), geneticist (Montclair, raised in Cedar Grove)\n",
            "Kenny Britt (still active nowadays), wide receiver for the St. Louis Rams (Bayonne)\n",
            "Betty Bronson (1906-1971), actress, Peter Pan (Trenton)\n",
            "Jacqueline Brookes (still active nowadays), actress (Montclair)\n",
            "Dave Brown (still active nowadays), quarterback for the New York Giants and Arizona Cardinals (Summit)\n",
            "Donald Brown (still active nowadays), running back for the Indianapolis Colts (Atlantic Highlands)\n",
            "Roscoe Lee Browne (1925–2007), actor, The Cowboys, The Mambo Kings (Woodbury)\n",
            "Lou Brutus (still active nowadays), radio host, musician, photographer (Newark, raised in Englistown)\n",
            "David Bryan (still active nowadays), musician (Perth Amboy)\n",
            "Mark Bryant (still active nowadays), NBA player, assistant coach (Glen Ridge, raised in South Orange)\n",
            "King Kong Bundy (still active nowadays), professional wrestler, stand-up comedian, actor (Atlantic City)\n",
            "Jake Burbage (still active nowadays), actor Grounded for Life (Willingboro)\n",
            "Richard Burgi (still active nowadays), actor Desperate Housewives, The Sentinel (Montclair)\n",
            "Aaron Burr (1756-1836), third Vice President of the United States (Newark)\n",
            "Glen Burtnik (still active nowadays), musician (North Brunswick)\n",
            "Nicholas Murray Butler (1862–1947), Nobel Prize-winning philosopher, diplomat, and educator (Elizabeth)\n",
            "Greg Buttle (still active nowadays), linebacker for the New York Jets (Atlantic City, raised in Linwood)\n",
            "Andrew Bynum (still active nowadays), center for the Philadelphia 76ers (Plainsboro)\n",
            "P. J. Byrne (still active nowadays), actor, The Game (South Orange)\n",
            "Michael Cade (still active nowadays), actor, California Dreams (Elmwood Park)\n",
            "Joseph Caldwell (1773–1835), mathematician, first president of the University of North Carolina (Lamington)\n",
            "Alisyn Camerota (still active nowadays), news anchor for CNN (Shrewsbury)\n",
            "William Campbell (1923–2011), actor (Newark)\n",
            "Bobby Cannavale (still active nowadays), actor, Bobby Caffey on Third Watch (Union City)\n",
            "Cardiak, music producer for 50 Cent, Rick Ross, Meek Mill, Fabolous, Lloyd Banks, Ace Hood and more Archived 2017-04-24 at the Wayback Machine. (Willingboro)[2]\n",
            "Ron Carey (1935–2007), actor, Barney Miller (Newark)\n",
            "Philip Carey[3] (1925–2009), actor, One Life to Live (Hackensack)\n",
            "Julie Carmen (still active nowadays), actress (Millburn)\n",
            "Thomas Carpenter (1752–1847), a patriot of the American Revolutionary War; born in Salem, died in Carpenter's Landing\n",
            "Rosalind Cash (1938–1995), actress (Atlantic City)\n",
            "Jonathan Casillas (still active nowadays), linebacker for the New Orleans Saints (New Brunswick)\n",
            "Joanna Cassidy (still active nowadays), actress, Blade Runner, Who Framed Roger Rabbit, Six Feet Under (Haddonfield)\n",
            "Iván Castro (still active nowadays), U.S. Army Captain serving on active duty in the Special Forces despite losing his eyesight (Hoboken)\n",
            "Michael Chang (still active nowadays), professional tennis player (Hoboken)\n",
            "Cheryl Chase (still active nowadays), voice actress, Angelica Pickles on Rugrats (Manville)\n",
            "Jeff Chase (still active nowadays), actor (Paterson)\n",
            "Michael Chertoff (still active nowadays), U.S. Secretary of Homeland Security under President George W. Bush (Elizabeth)\n",
            "Aneesh Chopra (still active nowadays), Chief Technology Officer under Barack Obama (Trenton, raised in Princeton Junction)\n",
            "Vinny Ciurciu (still active nowadays), National Football League linebacker (Hackensack)\n",
            "Earl Clark (still active nowadays), forward for the Los Angeles Lakers (Plainfield)\n",
            "Harlan Coben (still active nowadays), author of mystery novels and thrillers (Newark, raised in Livingston)\n",
            "Robert Coello (still active nowadays), pitcher for the Toronto Blue Jays (Bayonne)\n",
            "Willie Cole (still active nowadays), sculptor (Newark)\n",
            "Richard Conte (1910–1975), actor, The Godfather (Jersey City)\n",
            "Greg Coolidge (still active nowadays), actor, screenwriter, director (Red Bank)\n",
            "David Copperfield (still active nowadays), illusionist (Metuchen)\n",
            "Sam Coppola (still active nowadays), actor (Jersey City)\n",
            "Barbara Corcoran (still active nowadays), businesswoman, investor, and television personality (Edgewater)\n",
            "Joseph Cortese (still active nowadays), actor (Paterson)\n",
            "Phil Costa (still active nowadays), center and guard for the Dallas Cowboys (Moorestown)\n",
            "Blake Costanzo (still active nowadays), linebacker for the Chicago Bears (Franklin Lakes)\n",
            "Lou Costello (1906–1959), comedian, actor, Abbott and Costello films and television series (Paterson)\n",
            "Stephen Crane (1871-1900), novelist, short story writer, poet, journalist (Newark)\n",
            "Michael Cristofer (still active nowadays) Pulitzer Prize and Tony Award-winning playwright; screenwriter; actor; director (Trenton)\n",
            "Joseph Cross (still active nowadays) actor, Running with Scissors, Flags of Our Fathers (New Brunswick)\n",
            "Valerie Cruz (still active nowadays), actress, Nip/Tuck, The Dresden Files, Dexter (Elizabeth)\n",
            "Victor Cruz (still active nowadays), wide receiver for the New York Giants (Paterson)\n",
            "Ken Cuccinelli (still active nowadays), Attorney General of Virginia (Edison)\n",
            "John T. Cunningham (still active nowadays), journalist, writer, and historian (Newark, raised in Brookside)\n",
            "Vincent Curatola (still active nowadays), actor, Johnny Sack on The Sopranos (Englewood)\n",
            "Vinny Curry (still active nowadays), defensive end for the Philadelphia Eagles (Neptune)\n",
            "Brian Cushing (still active nowadays), outside linebacker for the Houston Texans (Park Ridge)\n",
            "Jack Cust (still active nowadays), designated hitter and outfielder for the New York Yankees (Flemington)\n",
            "Tawny Cypress (still active nowadays) actress, K-Ville, Heroes (Point Pleasant)\n",
            "Mike Daniels (still active nowadays), defensive end for the Green Bay Packers (Stratford)\n",
            "Joe Dante (still active nowadays), film director, Gremlins (Morristown)\n",
            "Glenn Danzig (still active nowadays), Misfits and  Danzig frontman (Lodi\n",
            "Jeff Datz (still active nowadays), third base coach for the Seattle Mariners (Camden)\n",
            "Dov Davidoff, comedian, actor (Englishtown)\n",
            "Anthony Davis (still active nowadays), offensive tackle for the San Francisco 49ers (Piscataway)\n",
            "Hope Davis (still active nowadays), actress, About Schmidt, American Splendor, The Hoax  (Englewood)\n",
            "Lanny Davis (still active nowadays),  Special Counsel to the President to Bill Clinton (Jersey City)\n",
            "Sandra Dee (1942–2005), actress, Gidget, A Summer Place (Bayonne)\n",
            "Robert De Grasse (1900–1971), cinematographer (Maplewood)\n",
            "Dean DeLeo (still active nowadays) Guitarist for Stone Temple Pilots,Talk Show, Army of Anyone, Laughter Train (Montclair)\n",
            "Martina Deignan, soap opera actress, Santa Barbara, As the World Turns (East Orange)\n",
            "Mark DeRosa (still active nowadays), utility player for the Washington Nationals (Passaic)\n",
            "Danny DeVito, actor and director, Taxi, Hoffa, War of the Roses, Get Shorty, Batman Returns, It's Always Sunny in Philadelphia[4] (still active nowadays),  (Neptune City)\n",
            "Tommy DeVito (still active nowadays), musician and singer; lead guitarist of The Four Seasons (Belleville)\n",
            "Khigh Dheigh (1910–1991), actor, Wo Fat on Hawaii Five-O (Spring Lake)\n",
            "Ernest Dickerson (still active nowadays), film and television director (Newark)\n",
            "John DiMaggio (still active nowadays), voice actor, Bender on Futurama (North Plainfield)\n",
            "Pat DiNizio (still active nowadays), singer, The Smithereens (Scotch Plains)\n",
            "Peter Dinklage (still active nowadays), actor, Elf, Game of Thrones (Morristown, raised in Mendham Township)\n",
            "DJ DX (still active nowadays), rap artist, turntablist, producer (Jersey City)\n",
            "Peter Dobson (still active nowadays), actor, Cover Me (Red Bank)\n",
            "Jamie Donnelly (still active nowadays), actress (Teaneck)\n",
            "Ruth Donnelly (1896-1982), actress (Trenton)\n",
            "Michael Douglas (still active nowadays), Academy Award-winning actor, producer (New Brunswick)\n",
            "Jim Dowd (still active nowadays), professional ice hockey player (Brick Township)\n",
            "Al Downing (still active nowadays), professional baseball pitcher New York Yankees, Oakland A's, Milwaukee Brewers, Los Angeles Dodgers, NL comeback player of the year 1971 (Trenton)\n",
            "Derek Drymon (still active nowadays), cartoon producer, SpongeBob SquarePants (Morristown)\n",
            "Thomas F. Duffy (still active nowadays), actor (Woodbridge)\n",
            "Tom Dugan (still active nowadays), one-person show actor, writer and director (Rahway)\n",
            "Tabitha D'umo (still active nowadays), dance teacher, choreographer, and creative director (Galloway)\n",
            "Jancee Dunn (still active nowadays), journalist, author, and former VJ for MTV2 (Chatham)\n",
            "Ashley Alexandra Dupré (still active nowadays), prostitute, singer (Beachwood)\n",
            "Asher Brown Durand (1796–1886), artist (Maplewood)\n",
            "Andrea Dworkin (1946–2005), radical feminist and activist (Camden)\n",
            "Frederick Eberhardt (1868–1946), engineer, philanthropist, university administrator and businessman (Newark)\n",
            "Randy Edelman (still active nowadays), film and TV score composer (Paterson)\n",
            "Frankie Edgar (still active nowadays), mixed martial artist (Toms River)\n",
            "Geoff Edwards (1931–2014), actor, radio and television personality (Westfield)\n",
            "Todd Edwards (still active nowadays), music producer (Bloomfield)\n",
            "Róisín Egenton (still active nowadays), 2000 International Rose of Tralee (Fanwood)\n",
            "Hallie Kate Eisenberg (still active nowadays), teen actress (East Brunswick)\n",
            "Robert Ellenstein (still active nowadays), actor (Newark)\n",
            "Linda Emond (still active nowadays), actress, Julie & Julia (New Brunswick)\n",
            "Bret Ernst (still active nowadays), comedian (Princeton)\n",
            "Alecko Eskandarian (still active nowadays), soccer player (Montvale)\n",
            "Janet Evanovich (still active nowadays), novelist (South River)\n",
            "Bill Evans (1929–1980), jazz pianist and composer (Plainfield)\n",
            "Josh Evans (still active nowadays), safety for the Jacksonville Jaguars (Irvington)\n",
            "Charles Evered (still active nowadays), writer, director (Passaic, grew up in Rutherford)\n",
            "Greg Evigan (still active nowadays), actor, B. J. and the Bear, My Two Dads (South Amboy)\n",
            "Donald Fagen (still active nowadays), musician (Steely Dan) (South Brunswick)\n",
            "Joseph Farah (still active nowadays), journalist and editor-in-chief of WorldNetDaily (Paterson)\n",
            "Kenneth Faried (still active nowadays), power forward for the Denver Nuggets (Newark)\n",
            "Vera Farmiga (still active nowadays), actress, The Departed, Up in the Air (Clifton)\n",
            "Taissa Farmiga (still active nowadays), actress, American Horror Story, The Bling Ring (Readington)\n",
            "John Farrell (still active nowadays), manager for the Boston Red Sox (Monmouth Beach)\n",
            "Edward Feigenbaum (still active nowadays), computer scientist known as \"the father of expert systems\" (Weehawken)\n",
            "Joan Field (still active nowadays), violinist (Long Branch)\n",
            "Joe Fields (still active nowadays),  NFL center, primarily with the New York Jets (Woodbury)\n",
            "Gail Fisher (1935–2000), actress, Mannix (Orange)\n",
            "Leo Fitzpatrick (still active nowadays), actor, Johnny Weeks on The Wire (West Orange)\n",
            "Joe Flacco (still active nowadays), quarterback for the Baltimore Ravens (Audubon)\n",
            "Susan Flannery (still active nowadays), soap opera actress (Jersey City)\n",
            "Josh Flitter (still active nowadays), child actor (Ridgewood)\n",
            "Mary Florentine (still active nowadays), psychoacoustics researcher (Nutley)\n",
            "Richard Florida (still active nowadays), urban studies theorist, author of Who's Your City? (Newark)\n",
            "Rick Folbaum (still active nowadays), news anchor and correspondent for Fox News (Cherry Hill)\n",
            "Steve Forbes (still active nowadays), editor-in-chief of Forbes magazine; president and CEO of Forbes, Inc. (Morristown)\n",
            "Darren Ford (still active nowadays), outfielder for the Pittsburgh Pirates (Vineland)\n",
            "Gerard J. Foschini (still active nowadays),  telecommunications engineer (Jersey City)\n",
            "Beth Fowler (still active nowadays), actress, singer (Jersey City)\n",
            "Randy Foye (still active nowadays), shooting guard/point guard for the Utah Jazz (Newark)\n",
            "Connie Francis (still active nowadays), pop singer (Newark)\n",
            "Genie Francis (still active nowadays), actress, General Hospital (Englewood)\n",
            "Barney Frank (still active nowadays), openly gay Massachusetts congressman (Bayonne)\n",
            "Waldo Frank (1889–1967), novelist, historian, literary critic (Long Branch)\n",
            "Todd Frazier (still active nowadays), third baseman for the Cincinnati Reds (Point Pleasant)\n",
            "Dean Friedman (still active nowadays), singer-songwriter (Paramus)\n",
            "G – R[change | change source]\n",
            "James Gandolfini\n",
            "Whitney Houston\n",
            "Thomas Kean\n",
            "Jane Krakowski\n",
            "Artie Lange\n",
            "Queen Latifah\n",
            "Judith Light\n",
            "Ray Liotta\n",
            "Alice Gainer (still active nowadays), anchorwoman for WCBS-TV (Wayne)\n",
            "Tony Galento (1910–1979), heavyweight boxer and actor, On the Waterfront (Orange)\n",
            "James Gandolfini (1961–2013), actor, starred in The Sopranos (Park Ridge)\n",
            "Antonio Garay (still active nowadays), defensive tackle for the San Diego Chargers (Rahway)\n",
            "Allen Garfield (still active nowadays), actor (Newark)\n",
            "Lee Garlington (still active nowadays), actress (Teaneck)\n",
            "David Garrison (still active nowadays), actor, Married... with Children, It's Your Move (Long Branch)\n",
            "Willie Garson (still active nowadays), actor, Sex and the City (Highland Park)\n",
            "Bob Gaudio (still active nowadays), singer, songwriter, musician and record producer; keyboardist/backing vocalist for The Four Seasons\n",
            "Gloria Gaynor (still active nowadays), singer (Newark)\n",
            "Michael V. Gazzo (1923–1995), playwright and actor, Frank Pentangeli in The Godfather Part II (Hillside)\n",
            "Brian Geraghty (still active nowadays), actor (Toms River)\n",
            "Michael Giacchino (still active nowadays), Oscar-winning composer (Riverside, grew up in Edgewater Park)\n",
            "Elizabeth Gillies (still active nowadays), actress, singer, dancer (Haworth)\n",
            "Allen Ginsberg (1926–1997), poet (Paterson)\n",
            "Bob Giraldi (still active nowadays), film, TV and music video director (Paterson)\n",
            "Savion Glover (still active nowadays), actor, tap dancer and choreographer (Newark)\n",
            "Judy Gold (still active nowadays), stand-up comic (Newark)\n",
            "Al Golden (still active nowadays), head football coach for the University of Miami (Colts Neck)\n",
            "Joshua Gomez (still active nowadays), actor, Chuck, Without a Trace (Bayonne)\n",
            "Rick Gomez (still active nowadays), actor, Band of Brothers (Bayonne)\n",
            "Hedwig Gorski (still active nowadays), poet\n",
            "Dwayne Gratz (still active nowadays), cornerback for the Jacksonville Jaguars (Piscataway)\n",
            "Kerri Green (still active nowadays), actress (Fort Lee)\n",
            "Bob Greene (still active nowadays), fitness guru, author (Cherry Hill)\n",
            "Khaseem Greene (still active nowadays), linebacker for the Chicago Bears (Elizabeth)\n",
            "Peter Greene (still active nowadays), actor, Zed from Pulp Fiction (Montclair)\n",
            "Shonn Greene (still active nowadays), running back for the New York Jets (Sicklerville)\n",
            "Zach Grenier (still active nowadays), actor, Touching Evil (Englewood)\n",
            "Hezekiah Griggs, III (still active nowadays), entrepreneur, philanthropist, investor\n",
            "Dan Grunfeld (still active nowadays), professional basketball player (Franklin Lakes)\n",
            "Tom Guiry (still active nowadays), actor, The Black Donnellys (Trenton)\n",
            "Alison Haislip (still active nowadays), actress, TV correspondent, Attack of the Show!, The Voice, Battleground (Tewksbury Township)\n",
            "Chelsea Handler (still active nowadays), stand-up comedian, actress, host of Chelsea Lately (Livingston)\n",
            "John Harkes[5] (still active nowadays), soccer player (Kearny)\n",
            "Jess Harnell (still active nowadays), voice actor, Animaniacs, Up, the Transformers movies (Teaneck)\n",
            "Al Harrington (still active nowadays), player for the Orlando Magic (Orange)\n",
            "Ed Harris (still active nowadays), actor, Pollock, The Truman Show, The Right Stuff, Apollo 13, Game Change (born in Englewood, raised in Tenafly)\n",
            "Franco Harris (still active nowadays), Hall of Fame fullback with the Pittsburgh Steelers (Fort Dix)\n",
            "Roxanne Hart (still active nowadays), actress, Chicago Hope (Trenton)\n",
            "Tobin Heath (still active nowadays), two-time Olympic gold medalist and FIFA Women's World Cup silver medalist, plays for the United States women's national soccer team (Basking Ridge)\n",
            "Robert Hegyes (1951–2012), actor, Welcome Back, Kotter (Perth Amboy)\n",
            "Grace Helbig (still active nowadays), actress, comedian, Camp Takota (Woodbury, raised in Woodbury Heights)\n",
            "Gerald Henderson, Jr. (still active nowadays), shooting guard for the Charlotte Bobcats (Caldwell)\n",
            "Al Herpin (still active nowadays), insomniac (Trenton)\n",
            "Frank Herrmann (still active nowadays), relief pitcher for the Cleveland Indians (Rutherford)\n",
            "Jon-Erik Hexum (1957–1984), actor, model, Voyagers! (Englewood, raised in Tenafly)\n",
            "Richard X. Heyman (still active nowadays), singer-songwriter, musician, original member of The Doughboys (Plainfield)\n",
            "Shana Hiatt (still active nowadays), model, presenter (Tabernacle Township)\n",
            "Beatrice Hicks (1919–1979), engineer, co-founder and first president of the Society of Women Engineers (Orange)\n",
            "Michele Hicks (still active nowadays), actress, Mara Vendrell on The Shield (Essex County)\n",
            "Brian Hill (still active nowadays), assistant coach for the Detroit Pistons (East Orange)\n",
            "Dulé Hill (still active nowadays), actor, Psych (East Brunswick, raised in Sayreville)\n",
            "Lauryn Hill (still active nowadays), singer, rapper, songwriter (South Orange)\n",
            "Jesse Holley (still active nowadays), wide receiver for the Dallas Cowboys (Roselle)\n",
            "Richard Hooker (1924–1997), writer, surgeon, author of the novel, MASH (Trenton)\n",
            "Jermaine 'Huggy' Hopkins (still active nowadays), actor (Newark)\n",
            "Neil Hopkins (still active nowadays), actor (Trenton)\n",
            "Wil Horneff (still active nowadays), actor (born in Englewood, raised in Saddle River)\n",
            "Dennis Horner (still active nowadays), forward for the Artland Dragons (Linwood)\n",
            "Adam \"Ad-Rock\" Horovitz (still active nowadays), member of the Beastie Boys (South Orange)\n",
            "Cissy Houston (still active nowadays), singer (Newark)\n",
            "Whitney Houston (1963–2012), singer and actress (Newark, grew up in East Orange)\n",
            "Tim Howard (still active nowadays), soccer player (North Brunswick)\n",
            "Paul Iacono (still active nowadays), actor, stars in The Hard Times of RJ Berger (Secaucus)\n",
            "Frank Iero (still active nowadays), rhythm guitarist of My Chemical Romance (Belleville)\n",
            "Mark Ingram, Jr. (still active nowadays), running back for the New Orleans Saints (Hackensack)\n",
            "Michael Jace (still active nowadays), actor, Officer Julien Lowe on The Shield (Paterson)\n",
            "Leonard Jeffries (still active nowadays), controversial professor of Black Studies at the City University of New York (Newark)\n",
            "Malcolm Jenkins (still active nowadays), safety for the Philadelphia Eagles (East Orange)\n",
            "Rodney Jerkins (still active nowadays), songwriter, record producer, musician (Pleasantville)\n",
            "Dontae Johnson (still active nowadays), cornerback for the San Francisco 49ers (Pennington)\n",
            "Enoch \"Nucky\" Johnson (1883–1968), Atlantic City political boss and racketeer, basis for Boardwalk Empire's Nucky Thompson (Galloway Township)\n",
            "James P. Johnson (1894–1955), stride jazz pianist (New Brunswick)\n",
            "J. Seward Johnson, Jr. (still active nowadays), sculptor\n",
            "Leavander Johnson (1969–2005), world champion boxer (Atlantic City)\n",
            "Robert Wood Johnson II (1893-1968), businessman, Chairman of the Board of Johnson & Johnson (New Brunswick)\n",
            "Soterios Johnson, host on public radio station WNYC (Highland Park)\n",
            "Frankie Jonas (still active nowadays), child actor, Jonas L.A. (Ridgewood)\n",
            "Kevin Jonas (still active nowadays), singer, guitarist, member of the Jonas Brothers (Teaneck, raised in Wyckoff)\n",
            "Dahntay Jones (still active nowadays), player for the Indiana Pacers (Trenton, raised in Hamilton Square)\n",
            "Donald Jones (still active nowadays), wide receiver for the Buffalo Bills (Plainfield)\n",
            "Linda Jones (still active nowadays), soul singer (Newark)\n",
            "Maxine Jones (still active nowadays), singer (Paterson)\n",
            "Nate Jones (still active nowadays), NFL cornerback (Newark)\n",
            "Ben Jorgensen (still active nowadays), musician (Teaneck)\n",
            "Just Blaze, rap musician (Paterson)\n",
            "Jerome Kagan (still active nowadays), pioneer in the field of developmental psychology (Newark)\n",
            "Stanley Kamel (1943–2008), actor, Monk, Melrose Place (South River)\n",
            "Ira Kaplan, musician, co-founder of Yo La Tengo (Hoboken)\n",
            "Myq Kaplan (still active nowadays), stand-up comedian (Livingston)\n",
            "Eric Karros (still active nowadays), MLB first baseman, TV color commentator for (Hackensack)\n",
            "Danny Kass (still active nowadays), pro snowboarder (Vernon Valley)\n",
            "Thomas Kean (still active nowadays), governor, 9/11 Commission chairman (Bedminster)\n",
            "Brian Keith (1921–1997), actor, The Parent Trap, Nevada Smith, Family Affair, The Wind and the Lion (Bayonne)\n",
            "Daniel Hugh Kelly (still active nowadays), actor (Elizabeth)\n",
            "Mark Kelly (still active nowadays), astronaut, husband of Congresswoman Gabrielle Giffords, twin brother of Scott Kelly (Orange)\n",
            "Scott Kelly (still active nowadays), astronaut, Commander of International Space Station Expedition 26, twin brother of Mark Kelly (Orange)\n",
            "Stacey Kent (still active nowadays), singer (South Orange)\n",
            "Walter Kidde (1877–1943), founder of the Kidde company (Hoboken)\n",
            "Tom Kiesche (still active nowadays), actor (Hackensack)\n",
            "Jim Kiick (still active nowadays),  NFL running back, primarily for the Miami Dolphins (Lincoln Park)\n",
            "Victor Kilian (1891–1979), actor (Jersey City)\n",
            "Joyce Kilmer (1886-1918), poet (New Brunswick)\n",
            "Zalman King (still active nowadays), actor, director, writer, Body Language (Trenton)\n",
            "Alfred Kinsey (1894–1956), zoologist and sexologist (Hoboken)\n",
            "Michael E. Knight (still active nowadays), actor (Princeton)\n",
            "Ann McLaughlin Korologos (still active nowadays), Secretary of Labor from 1987 to 1989 (Chatham)\n",
            "Ernie Kovacs (1919–1962), comedian and actor (Trenton)\n",
            "Dennis Kozlowski (still active nowadays), CEO of Tyco International, convicted in 2005 (Newark)\n",
            "Jane Krakowski (still active nowadays), actress, 30 Rock (Parsippany)\n",
            "Barbara Kruger (still active nowadays), conceptual artist (Newark)\n",
            "Larry Kudlow (still active nowadays), economist, TV personality, syndicated columnist (Englewood)[6]\n",
            "Richard Kuklinski (1935–2006), murderer of over 100 people in mob-related instances (Jersey City)\n",
            "William Labov (still active nowadays), linguist  (Rutherford)\n",
            "Brielle LaCosta (still active nowadays), Miss New Jersey International 2010 and Miss East Coast International 2014 (Warren)\n",
            "Nathan Lane (still active nowadays), Tony Award-winning actor (Jersey City)\n",
            "Artie Lange (still active nowadays), actor, comedian, radio personality (Livingston, raised in Union)\n",
            "Frank Langella (still active nowadays), actor, Dracula, Superman Returns, Frost/Nixon, Draft Day (Bayonne)\n",
            "Ali Larter (still active nowadays), actress, Niki Sanders on Heroes (Cherry Hill)\n",
            "Vincent Larusso (still active nowadays), actor, The Mighty Ducks trilogy (Livingston)\n",
            "Queen Latifah (still active nowadays), singer, actress, TV personality (Newark)\n",
            "Jack Lawless (still active nowadays), drummer of the Jonas Brothers (Middletown)\n",
            "Jacob Lawrence (1917–2000), artist (Atlantic City)\n",
            "Nicole Leach (still active nowadays), actress (Montclair)\n",
            "Fran Lebowitz (still active nowadays), author (Morristown)\n",
            "Beverly Lee (still active nowadays), singer with The Shirelles, from Passaic\n",
            "Al Leiter (still active nowadays),  MLB starting pitcher, TV commentator (Toms River)\n",
            "Paul Le Mat (still active nowadays), actor, American Graffiti, Melvin and Howard (Rahway)\n",
            "Stephanie Lemelin (still active nowadays), actress, Young Justice (Sewell)\n",
            "Arthur Lenk (still active nowadays), Israeli diplomat (Paterson)\n",
            "Robert Sean Leonard (still active nowadays), actor, House, Dead Poets Society (born in Westwood, raised in Ridgewood)\n",
            "Michael Lerner (still active nowadays), left-wing activist and rabbi (Newark)\n",
            "Jerry Levine (still active nowadays), actor, director, Going Places, Will & Grace (New Brunswick)\n",
            "Jerry Lewis (still active nowadays), actor, comedian, director, telethon host, Academy Award honoree (Newark)\n",
            "Judith Light (still active nowadays), actress, Emmy winner, Who's the Boss?, Ugly Betty, Law & Order: SVU (Trenton)\n",
            "Damon Lindelof (still active nowadays), television and film producer, Lost, Crossing Jordan, Star Trek (Teaneck)\n",
            "Ray Liotta (still active nowadays), actor, Goodfellas, The Rat Pack, Cop Land, Hannibal (born in Newark, raised in Union Township)\n",
            "Sean Lissemore (still active nowadays), defensive end for the Dallas Cowboys (Teaneck)\n",
            "Norman Lloyd (still active nowadays), actor, director, producer, St. Elsewhere (Jersey City)\n",
            "Amy Locane (still active nowadays), actress (Trenton)\n",
            "Kurt Loder (still active nowadays), film critic, author, columnist, TV personality (Ocean City)\n",
            "Faizon Love (still active nowadays), actor (Newark)\n",
            "George Lowe (1895–1981), Major League Baseball pitcher (born in Ridgefield Park; died in Somers Point)\n",
            "Derek Luke (still active nowadays), actor (Jersey City)\n",
            "Brit Morgan\n",
            "Shaquille O'Neal\n",
            "Joe Pantoliano\n",
            "Joe Pesci\n",
            "Marisa Petroro\n",
            "Laura Prepon\n",
            "Tara Reid\n",
            "Martha MacCallum (still active nowadays), news anchor for the Fox News Channel (Wyckoff)\n",
            "Elliott Maddox (still active nowadays), Major League Baseball player (East Orange)\n",
            "Steve Maneri (still active nowadays), tight end for the Chicago Bears (Saddle Brook)\n",
            "N. Gregory Mankiw (still active nowadays), macroeconomist and chairman of the Council of Economic Advisers under President George W. Bush (Trenton)\n",
            "David Marciano (still active nowadays), actor (Newark)\n",
            "Lisa Marie (still active nowadays), model and actress (Piscataway)\n",
            "John Marin (1870–1953), artist (Rutherford)\n",
            "Robert Markowitz (still active nowadays), film and TV director (Irvington)\n",
            "Marc Maron (still active nowadays), stand-up comedian (Jersey City)\n",
            "George R. R. Martin (still active nowadays), novelist, short story writer, author of A Song of Ice and Fire (Bayonne)\n",
            "Nick Massi (1927–2000), bass singer and bass guitarist for The Four Seasons (Newark)\n",
            "Ronald F. Maxwell (still active nowadays), film director, screenwriter (Clifton)\n",
            "Vin Mazzaro (still active nowadays), relief pitcher for the Pittsburgh Pirates (Hackensack, raised in Rutherford)\n",
            "Turk McBride (still active nowadays), defensive end for the New Orleans Saints (Camden)\n",
            "Andrew McCarthy (still active nowadays), actor, Less Than Zero, Pretty in Pink, Weekend at Bernie's (Westfield)\n",
            "Beth McCarthy-Miller (still active nowadays), TV director, Saturday Night Live, 30 Rock, The Marriage Ref (Elizabeth)\n",
            "Thomas McCarthy (still active nowadays), actor, writer, director, Scott Templeton on The Wire (New Providence)\n",
            "Heather McComb (still active nowadays), actor, Profiler, Party of Five (Barnegat Township)\n",
            "Mary McCormack (still active nowadays), actress, In Plain Sight, The West Wing, Murder One (Plainfield)\n",
            "Warren Sturgis McCulloch (1898–1969), neurophysiologist and cybernetician (Orange)\n",
            "Bob MacDonald (still active nowadays), MLB pitcher (East Orange)\n",
            "Tom McGowan (still active nowadays), actor, Frasier, Down the Shore, Everybody Loves Raymond (Belmar)\n",
            "Kareem McKenzie (still active nowadays), former offensive tackle for the New York Giants (Trenton)\n",
            "Bryant McKinnie (still active nowadays), offensive tackle for the Baltimore Ravens (Woodbury)\n",
            "Christopher McQuarrie (still active nowadays), Academy Award-winning screenwriter, director (Princeton Junction)\n",
            "Tony Meola (still active nowadays), soccer player (Kearny)\n",
            "Lee Meredith (still active nowadays), actress, The Producers (River Edge)\n",
            "Frank Messina (still active nowadays), poet\n",
            "Jason Mewes (still active nowadays), actor (Highlands)\n",
            "Dan Meyer (still active nowadays), relief pitcher for the Pittsburgh Pirates (Woodbury)\n",
            "Jeromy Miles (still active nowadays), safety for the Baltimore Ravens (Voorhees)\n",
            "Cristin Milioti (still active nowadays), actress (Cherry Hill)\n",
            "Ezra Miller (still active nowadays), actor (Wyckoff)\n",
            "John Milnor (still active nowadays), mathematician, notable in the fields of exotic spheres and mathematical economics (Orange)\n",
            "Kelly Jo Minter (still active nowadays), actress (Trenton)\n",
            "Susan Misner (still active nowadays), actress (Paterson, grew up in Pequannock Township)\n",
            "Dorian Missick (still active nowadays), actor (East Orange)\n",
            "Thomas Mitchell (1892–1962), Oscar-winning actor (Elizabeth)\n",
            "Jay Mohr (still active nowadays), actor, comedian, radio personality (Verona)\n",
            "Steve Monarque (still active nowadays), actor, Friday the 13th: The Series (Pompton Lakes)\n",
            "Eugene Monroe (still active nowadays), offensive tackle for the Baltimore Ravens (Plainfield)\n",
            "John J. Mooney (born c. 1929), chemical engineer, co-inventor of the three-way catalytic converter (Paterson)\n",
            "Trevor Moore (still active nowadays), actor, comedian, writer, The Whitest Kids U' Know (Montclair)\n",
            "Brit Morgan (still active nowadays), actress, True Blood, The Middleman (Marlton)\n",
            "Knowshon Moreno (still active nowadays), professional football player (Middletown Township)\n",
            "Kevin Mulvey (still active nowadays), MLB starting pitcher (Parlin)\n",
            "Frankie Muniz (still active nowadays), actor (Wood-Ridge)\n",
            "Ed Murawinski (still active nowadays), artist, New York Daily News (Jersey City)\n",
            "Eric Murdock (still active nowadays), professional basketball player (Somerville)\n",
            "Troy Murphy (still active nowadays), power forward and center for the Los Angeles Lakers (Morristown)\n",
            "Tom Murro (still active nowadays), journalist, columnist, TV personality (Franklin Lakes)\n",
            "Ira B. Nadel (still active nowadays), biographer, literary critic\n",
            "Vince Naimoli (still active nowadays), owner of the Tampa Bay Rays (Paterson)\n",
            "Andrew Napolitano (still active nowadays), Fox News Channel analyst, author, talk radio host (Newark)\n",
            "Naturi Naughton (still active nowadays), singer and actress (East Orange)\n",
            "Ozzie Nelson (1906–1975), actor, bandleader and TV personality (born in Jersey City, raised in Ridgefield Park)\n",
            "Ricky Nelson (1940–1985), singer and actor (Teaneck)\n",
            "Bebe Neuwirth (still active nowadays), Tony Award-winning actress (Princeton)\n",
            "David Newsom (still active nowadays), actor, photographer, Homefront (North Caldwell)\n",
            "Kathleen Noone (still active nowadays), Emmy-winning actress, Sunset Beach, Knots Landing, All My Children (Hillsdale)\n",
            "Jeffrey Nordling (still active nowadays), actor, Once and Again, 24, Dirt (born in Ridgewood, raised in Washington Township)\n",
            "Jim Norton (still active nowadays), comedian, radio personality, actor, author (Bayonne)\n",
            "Joseph Nye (still active nowadays), international relations scholar and co-founder of the neoliberalism school of thought (South Orange)\n",
            "Liam O'Brien (still active nowadays), voice actor, Monster, Ghost in the Shell (Belleville)\n",
            "Shaun O'Hara (still active nowadays),  center for the New York Giants (Hillsborough Township)\n",
            "Jodi Lyn O'Keefe (still active nowadays), actress (Cliffwood Beach)\n",
            "Greg Olsen (still active nowadays), tight end for the Carolina Panthers (Wayne)\n",
            "T. J. O'Malley (1915–2009), aerospace engineer (Montclair)\n",
            "Shaquille O'Neal (still active nowadays), basketball Hall of Famer, 15-time NBA All-Star center (Newark)\n",
            "Henry O'Neill (1891-1961), actor (Orange)\n",
            "Peter Onorati (still active nowadays), actor, Civil Wars, Joe's Life, Cop Rock (Boonton)\n",
            "Ashley Rose Orr (still active nowadays), actress (Denville)\n",
            "Claudette Ortiz (still active nowadays), R&B and Hip-Hop singer (Willingboro)\n",
            "David Packer (still active nowadays), actor (Passaic)\n",
            "John Panelli (1926–2012), NFL linebacker and running back (Morristown)\n",
            "Franklin Pangborn (1889–1958), character actor (Newark)\n",
            "Joe Pantoliano (still active nowadays), actor, The Matrix, Memento, The Fugitive, Bound, The Sopranos (Hoboken)\n",
            "Tom Papa (still active nowadays),  comedian, actor, and writer (Passaic, raised in Woodcliff Lake)\n",
            "Bill Parcells (still active nowadays),  NFL coach and Hall of Famer, TV commentator (Englewood)\n",
            "Robert Pastorelli (1954–2004), actor, Murphy Brown, Cracker, Eraser (New Brunswick)\n",
            "Alice Paul (1885–1977), suffragist (Mount Laurel)\n",
            "Elizabeth Peña (still active nowadays), actress, The Incredibles, Rush Hour (Elizabeth)\n",
            "Irving Penn (1917–2009), photographer (Plainfield)\n",
            "Kal Penn (still active nowadays), actor (Montclair)\n",
            "Fernando Perez (still active nowadays), outfielder for the New York Mets (Elizabeth, raised in West Windsor)\n",
            "Millie Perkins (still active nowadays), actress (Passaic, raised in Fair Lawn)\n",
            "Jim Perry (still active nowadays), U.S. and Canadian game show host (Camden)\n",
            "Joe Pesci (still active nowadays), Oscar-winning actor, Goodfellas, Raging Bull, Casino, JFK, Home Alone (Newark)\n",
            "Marisa Petroro (still active nowadays), actress and model (Elizabeth)\n",
            "Thomas R. Pickering (still active nowadays) diplomat (Orange)\n",
            "Jimmy Pinchak (still active nowadays), teen actor, Family Affair (Point Pleasant)\n",
            "Danny Pintauro (still active nowadays) actor, Who's the Boss? (Milltown)\n",
            "Joe Piscopo (still active nowadays), actor and comedian, Saturday Night Live, Wise Guys, 100 Deeds for Eddie McDowd (Passaic)\n",
            "Michael Pitt (still active nowadays), actor, Dawson's Creek, Boardwalk Empire, The Village (West Orange)\n",
            "Michael J. Pollard (still active nowadays), actor, Bonnie and Clyde (Passaic)\n",
            "Rick Porcello (still active nowadays), starting pitcher for the Boston Red Sox (Morristown)\n",
            "Laura Prepon (still active nowadays), actress (Watchung)\n",
            "Molly Price (still active nowadays), actress (North Plainfield)\n",
            "Lou Taylor Pucci (still active nowadays), actor (Seaside Heights, raised in Keansburg)\n",
            "Keshia Knight Pulliam (still active nowadays), actress, The Cosby Show (Newark)\n",
            "Matthew Quick (still active nowadays), author of young adult and fiction novels (Oaklyn)\n",
            "Phil Radford (still active nowadays), Greenpeace Executive Director (New Brunswick)\n",
            "Rah Digga (still active nowadays), rap musician (Newark)\n",
            "Ronald T. Raines (still active nowadays) scientist, educator, and entrepreneur (Montclair)\n",
            "Anthony Ranaudo (still active nowadays), pitcher for the Texas Rangers (Freehold Township)\n",
            "Melissa Rauch (still active nowadays), actress, comedienne, Bernadette Rostenkowski on The Big Bang Theory (Marlboro)\n",
            "Nate Ravitz (still active nowadays), radio personality, Fantasy Focus (Brick)\n",
            "Redman (still active nowadays), rap musician (Newark)\n",
            "Isaac Redman (still active nowadays), running back for the Pittsburgh Steelers (Paulsboro)\n",
            "Melissa Reeves (still active nowadays), soap opera actress, Days of Our Lives, Santa Barbara (Eatontown)\n",
            "Tara Reid (still active nowadays), actress (Wyckoff)\n",
            "Claudio Reyna (still active nowadays), soccer player (Livingston)\n",
            "Nelson Riddle (1921–1985), arranger, composer, bandleader and orchestrator (Oradell, raised in Ridgewood)\n",
            "Jim Ringo (1931–2007), NFL Hall of Fame center and head coach (Orange)\n",
            "Kelly Ripa (still active nowadays), actress and television personality (Berlin)\n",
            "Paul Robeson (1898-1976), singer, actor, Civil Rights activist (Princeton)\n",
            "Alan Rosenberg (still active nowadays), actor, Cybill, The Guardian, Civil Wars (Passaic)\n",
            "Jeffrey Ross (still active nowadays), comedian (Springfield)\n",
            "Giuseppe Rossi (still active nowadays), soccer player (Teaneck)\n",
            "Philip Roth (still active nowadays), author (Newark)\n",
            "Thomas Rowe (still active nowadays), former Leonia police chief (Passaic)\n",
            "Richard Ruccolo (still active nowadays), actor, Two Guys and a Girl, Rita Rocks (Marlton)\n",
            "Mark Rudd (still active nowadays), left-wing activist, founding member of the Weather Underground (Maplewood)\n",
            "Tom Ruegger (still active nowadays), producer, creator of The Animaniacs (Metuchen)\n",
            "Deborah Rush (still active nowadays), actress, Strangers with Candy, Family Business, You've Got Mail (Chatham)\n",
            "S – Z[change | change source]\n",
            "Laura San Giacomo\n",
            "Hector Santiago\n",
            "Antonin Scalia\n",
            "Frank Sinatra\n",
            "Mira Sorvino\n",
            "Bruce Springsteen\n",
            "Meryl Streep\n",
            "Joe Theismann\n",
            "John Travolta\n",
            "Mike Trout\n",
            "Zakk Wylde\n",
            "Katie Sagona (still active nowadays), actress (Westwood)\n",
            "Eva Marie Saint (still active nowadays), Academy Award-winning actress (Newark)\n",
            "Richie Sambora (still active nowadays), guitarist for rock band Bon Jovi (Perth Amboy, raised in Woodbridge Township)\n",
            "Ajai Sanders (still active nowadays), actress, A Different World (Trenton)\n",
            "Laura San Giacomo (still active nowadays), actress, Just Shoot Me! (Denville)\n",
            "Caitlin Sanchez (still active nowadays), actress (Englewood)\n",
            "Hector Santiago (still active nowadays), pitcher for the Los Angeles Angels (Newark)\n",
            "Dick Savitt (still active nowadays), tennis player, ranked No. 2 in the world in 1951 (Bayonne)\n",
            "Mohamed Sanu (still active nowadays), professional football player, Cincinnati Bengals wide receiver (South Brunswick)\n",
            "Antonin Scalia (still active nowadays), U.S. Supreme Court justice (Trenton)\n",
            "Natalie Schafer (1900–1991), actress, Mrs. Howell on Gilligan's Island (Red Bank)\n",
            "Tom Scharpling (still active nowadays), comedian (Newbridge)\n",
            "Roy Scheider (1932–2008), actor, Jaws, The French Connection, All That Jazz (Orange)\n",
            "Greg Schiano (still active nowadays), head coach Tampa Bay Buccaneers, former head football coach Rutgers University (Wyckoff)\n",
            "Wally Schirra (1923–2007), Navy officer and test pilot (Hackensack)\n",
            "Sarah Schkeeper (still active nowadays), guard for the New York Sharks (Livingston)\n",
            "Steve Schmidt (still active nowadays), campaign strategist and advisor to the 2008 presidential campaign of Senator John McCain (North Plainfield)\n",
            "Scott Schoeneweis (still active nowadays), free agent relief pitcher (Long Branch, raised in Mount Laurel)\n",
            "Bitty Schram (still active nowadays), actress, Sharona Fleming on Monk (Mountainside)\n",
            "Frank D. Schroth (1884–1974), publisher of the Brooklyn Eagle (Trenton)\n",
            "Thomas N. Schroth (1920–2009), journalist, specializing in Inside the Beltway politics (Trenton)\n",
            "Norton Schwartz (still active nowadays), US Air Force general and Chief of Staff of the United States Air Force (Toms River)\n",
            "Sherwood Schwartz (1916–2011), television producer (Passaic)\n",
            "Norman Schwarzkopf, Jr. (still active nowadays) U.S. general, led coalition forces in the Gulf War (Trenton)\n",
            "Patti Scialfa (still active nowadays) singer-songwriter, musician, member of the E Street Band (Deal)\n",
            "Debralee Scott (1953–2005), actress, Angie (Elizabeth)\n",
            "Doc Searls (still active nowadays), journalist, columnist, blogger, author (Jersey City)\n",
            "Henry Selick (still active nowadays), stop motion director, producer, writer, The Nightmare Before Christmas, James and the Giant Peach, Coraline (Glen Ridge, raised in Rumson)\n",
            "Ivan Sergei (still active nowadays), actor, Jack & Jill, Once a Thief, Crossing Jordan (Hawthorne)\n",
            "Matt Servitto (still active nowadays), actor, Agent Harris on The Sopranos (Teaneck)\n",
            "Marc Shaiman (still active nowadays), composer, lyricist, arranger, and performer (Newark)\n",
            "Christian Sharps (1810–1874), inventor of first successful breech-loading rifle (Washington)\n",
            "Duncan Sheik (still active nowadays), singer-songwriter and composer (Montclair)\n",
            "Jonathan Marc Sherman (still active nowadays), playwright (Morristown, grew up in Livingston)\n",
            "Sheetal Sheth (still active nowadays), actress (Phillipsburg)\n",
            "Armin Shimerman (still active nowadays), actor, Star Trek: DS9, Buffy the Vampire Slayer, Beauty and the Beast (Lakewood)\n",
            "Everett Shinn (1876–1953), artist (Woodstown)\n",
            "David K. Shipler (still active nowadays), author (Chatham)\n",
            "The Shirelles, iconic and seminal girl group of the 1960s and 1970s, from Passaic, New Jersey\n",
            "Joseph Shivers (1920–2014), textile chemist (Marlton)\n",
            "Michael Showalter (still active nowadays), actor/comedian (Princeton)\n",
            "Joel Silver (still active nowadays), film and television producer, the Matrix Trilogy, the Lethal Weapon movies, Die Hard, Predator (South Orange)\n",
            "Jimmi Simpson (still active nowadays), actor, Date Night (Hackettstown)\n",
            "Frank Sinatra (1915–1998), iconic singer and Academy Award-winning actor (Hoboken)\n",
            "Frank Sinatra, Jr. (still active nowadays), singer, songwriter, conductor (Jersey City)\n",
            "Nancy Sinatra (still active nowadays), singer, actress (Jersey City)\n",
            "Tony Siragusa (still active nowadays), football player and TV commentator (Kenilworth)\n",
            "Jeremy Slate (1926–2006), actor (Atlantic City)\n",
            "Jennifer Schwalbach Smith (still active nowadays), actress (Newark)\n",
            "J. R. Smith (still active nowadays), shooting guard for the New York Knicks (Freehold)\n",
            "Kevin Smith (still active nowadays), filmmaker, Clerks, Dogma, Red State (Highlands)\n",
            "Tasha Smith (still active nowadays), actress, Boston Common, Tyler Perry's For Better or Worse (Camden)\n",
            "Chris Snee (still active nowadays), guard for the New York Giants (Edison)\n",
            "Jason Snelling (still active nowadays), running back for the Atlanta Falcons (Toms River)\n",
            "Todd Solondz (still active nowadays), filmmaker (Newark)\n",
            "Soraya (1969–2006), singer–songwriter (Point Pleasant)\n",
            "Mira Sorvino (still active nowadays), Oscar-winning actress (Tenafly)\n",
            "Arthur Space (1908–1983), actor, Lassie (New Brunswick)\n",
            "Charles Speziale (1948–1999), scientist who had worked in Langley Research Center (Newark)\n",
            "Bruce Springsteen (still active nowadays), iconic singer-songwriter (Long Branch, raised in Freehold)\n",
            "Pamela Springsteen (still active nowadays), actress and photographer (Freehold)\n",
            "Amos Alonzo Stagg (1862–1965), athlete and pioneering college coach in multiple sports, primarily football (West Orange)\n",
            "Mark Stein (still active nowadays), rock musician, composer, and arranger (Bayonne)\n",
            "Mindy Sterling (still active nowadays), actress, Frau Farbissina in the Austin Powers movies (Paterson)\n",
            "Robert Sternberg (still active nowadays), psychologist and psychometrician (Newark)\n",
            "Martha Stewart (still active nowadays) lifestyle guide, entrepreneur, TV personality (Jersey City, grew up in Nutley)\n",
            "Alfred Stieglitz (1864–1946), photographer (Hoboken)\n",
            "Rod Streater (still active nowadays), wide receiver for the Oakland Raiders (Burlington)\n",
            "Meryl Streep (still active nowadays), Academy Award-winning actress (Summit)\n",
            "William Graham Sumner (1840–1910), prominent sociologist, educator, academic (Paterson)\n",
            "Josh Sussman (still active nowadays), actor, Glee, Warren the Ape (Teaneck)\n",
            "Loretta Swit (still active nowadays), actress, Margaret Houlihan on M*A*S*H (Passaic)\n",
            "Tammy Lynn Sytch (still active nowadays), professional wrestling valet (Fort Monmouth)\n",
            "Michael Taccetta (still active nowadays), high-ranking member of the Lucchese crime family (Newark)\n",
            "Julian Talley (still active nowadays), wide receiver for the New York Giants (Stratford)\n",
            "Danny Tamberelli (still active nowadays), actor (Wyckoff)\n",
            "Glenn Taranto (still active nowadays), actor, Gomez in The New Addams Family (Hackensack)\n",
            "Frank Tashlin (1913–1972), animator, screenwriter, and film director (Weehawken)\n",
            "Jon Tenney (still active nowadays), actor, The Closer, Get Real, Scandal (Princeton)\n",
            "Jack Terricloth (still active nowadays) lead singer of The World/Inferno Friendship Society (Bridgewater)\n",
            "Joe Theismann (still active nowadays), quarterback for Notre Dame and the Washington Redskins, TV color commentator  (New Brunswick, raised in South River)\n",
            "Tim Thomas (still active nowadays), NBA forward (Paterson)\n",
            "Jason Thompson (still active nowadays), forward and center for the Sacramento Kings (Mount Laurel)\n",
            "Steve Tisch (still active nowadays), chairman and executive vice president for the New York Giants; also a film and television producer (Lakewood)\n",
            "Ashley Tisdale (still active nowadays) actress and singer (Ocean Township)\n",
            "Ray Toro (still active nowadays), lead guitarist of My Chemical Romance (Kearny)\n",
            "Ellen Travolta (still active nowadays), actress, Charles in Charge, Joanie Loves Chachi (Englewood)\n",
            "John Travolta (still active nowadays), actor, Saturday Night Fever, Grease, Pulp Fiction (Englewood)\n",
            "Linda Tripp (still active nowadays), central figure in  Lewinsky scandal of 1998 and 1999 (Jersey City)\n",
            "Andrew Trischitta (still active nowadays), actor (Manasquan)\n",
            "Mike Trout (still active nowadays), outfielder for the Los Angeles Angels (Millville)\n",
            "Martin Truex, Jr. (still active nowadays), NASCAR driver (Englishtown)\n",
            "Eddie Trunk (still active nowadays),  music historian, radio personality, author (Madison)\n",
            "Tiquan Underwood (still active nowadays), wide receiver for the New England Patriots (North Brunswick)\n",
            "James Urbaniak (still active nowadays), actor, voice actor, The Venture Bros. (Bayonne)\n",
            "Frankie Valli (still active nowadays), singer (Newark)\n",
            "Lee Van Cleef (1925–1989), actor, The Good, the Bad and the Ugly, The Man Who Shot Liberty Valance, Escape from New York (Somerville)\n",
            "Rudy Van Gelder (still active nowadays), Blue Note Records recording engineer (Jersey City)\n",
            "Jeff Van Note (still active nowadays),  center for the Atlanta Falcons (South Orange)\n",
            "James Van Riemsdyk (still active nowadays), NHL player (Middletown)\n",
            "Sarah Vaughan (1924–1990), singer (Newark)\n",
            "Chris Vaughn (still active nowadays), singer-songwriter (Neptune)\n",
            "Tom Verducci, sportswriter for Sports Illustrated and si.com, commentator MLB Tonight (East Orange, raised in Glen Ridge)\n",
            "Alex Vincent (still active nowadays), child actor (Newark, raised in Maywood)\n",
            "Yaki Kadafi (1977–1996), rapper and member of Tupac Shakur's group Outlawz (Irvington)\n",
            "Dick Vitale (still active nowadays), sportscaster (Passaic)\n",
            "Vitamin C (still active nowadays), pop singer (Old Bridge Township)\n",
            "Floyd Vivino (still active nowadays), actor (Paterson)\n",
            "Frank Vogel (still active nowadays), head coach for the Indiana Pacers (Wildwood)\n",
            "Paul Volcker (still active nowadays), economist, chairman of the Economic Recovery Advisory Board under President Barack Obama (Cape May, raised in Teaneck)\n",
            "Frederica Von Stade (still active nowadays), operatic mezzo-soprano (Somerville)\n",
            "Rich Vos (still active nowadays), stand-up comic (Plainfield)\n",
            "Tracey Walter (still active nowadays), character actor (Jersey City)\n",
            "Patrick Warburton (still active nowadays), actor (Paterson)\n",
            "Malcolm Jamal Warner (still active nowadays), actor (Jersey City)\n",
            "Dionne Warwick (still active nowadays), R&B singer, actress (East Orange)\n",
            "Rebecca Watson (still active nowadays), skeptical blogger and podcast host who founded the Skepchick blog\n",
            "Vernee Watson-Johnson (still active nowadays), actress (Trenton)\n",
            "Gerard Way (still active nowadays), lead singer of My Chemical Romance (Summit)\n",
            "Mikey Way (still active nowadays), bass guitarist of My Chemical Romance (Newark)\n",
            "Charlie Weis (still active nowadays), head football coach for University of Kansas (Middlesex)\n",
            "Shaun Weiss (still active nowadays), actor, The Mighty Ducks movies (Montvale)\n",
            "Paul Wesley (still active nowadays), actor in \"The Vampire Diaries\", from (New Brunswick), grew up in (Marlboro)\n",
            "David West (still active nowadays), power forward for the Indiana Pacers (Teaneck)\n",
            "Stylez G. White (still active nowadays),NFL defensive end (Newark)\n",
            "Tahir Whitehead (still active nowadays), linebacker for the Detroit Lions (Jersey City, raised in Newark)\n",
            "C. K. Williams (still active nowadays), poet, critic and translator (Newark)\n",
            "Gary Williams (still active nowadays), basketball coach for University of Maryland, current Big Ten Network analyst (Collingswood)\n",
            "J. D. Williams (still active nowadays), actor (Newark)\n",
            "Malinda Williams (still active nowadays), actress, Tracy \"Bird\" Van Adams on Soul Food (Elizabeth, raised in Westfield)\n",
            "Wendy Williams, radio and TV personality (born in Asbury Park, grew up in Ocean Township)\n",
            "William Carlos Williams (1883–1963), poet (Rutherford)\n",
            "Flip Wilson (1933–1998), comedian and actor (Jersey City)\n",
            "Frank Winters (still active nowadays), NFL center, primarily for the Green Bay Packers (Hoboken)\n",
            "Corey Wootton (still active nowadays), defensive end for the Chicago Bears (Rutherford)\n",
            "Jason Worilds (still active nowadays), outside linebacker for the Pittsburgh Steelers (Rahway, raised in Carteret)\n",
            "Chris Wragge (still active nowadays), sports journalist and presenter for WCBS-TV (Hackensack)\n",
            "Kelly Wright (still active nowadays), artist, radio host on WPIR Pratt Radio (Maywood)\n",
            "Robert Wuhl (still active nowadays), actor, writer, comedian, Batman, Cobb, Arliss (Union)\n",
            "Chris Wylde (still active nowadays), actor, comedian, Strip Mall (Hackettstown)\n",
            "Zakk Wylde (still active nowadays), guitarist for Ozzy Osbourne and Black Label Society (Bayonne, raised in Jackson Township)\n",
            "Aaron Yoo (still active nowadays), actor, Disturbia (East Brunswick)\n",
            "Albert Young (still active nowadays), running back for the Pittsburgh Steelers (Moorestown)\n",
            "Karen Young (still active nowadays), actress, Agent Robyn Sanseverino on The Sopranos (Pequannock)\n",
            "Larry Young (1940–1978), hard bop jazz organist (Newark)\n",
            "Pia Zadora (still active nowadays), actress and singer (Hoboken)\n",
            "Stuart Zagnit (still active nowadays), actor (New Brunswick)\n",
            "Ian Ziering (still active nowadays), actor, Beverly Hills, 90210  (Newark, raised in West Orange)\n",
            "Vanessa Zima (still active nowadays), actress (Phillipsburg)\n",
            "Yvonne Zima (still active nowadays), actress, The Young and the Restless, ER (Phillipsburg)\n",
            "Jeremy Zuttah (still active nowadays), offensive lineman for the Baltimore Ravens (Edison)\n",
            "Born elsewhere, grew up in New Jersey[change | change source]\n",
            "Bonnie Bernstein\n",
            "David DeJesus\n",
            "Anne Hathaway\n",
            "Michelle Malkin\n",
            "Lea Michele\n",
            "Brittany Murphy\n",
            "Jack Nicholson\n",
            "Cameron Richardson\n",
            "Michelle Rodriguez\n",
            "Brooke Shields\n",
            "Elisabeth Shue\n",
            "Bruce Willis\n",
            "Teresa Wright\n",
            "Soren Sorensen Adams (1878–1963), inventor of the Joy buzzer (born Aarhus, Denmark, grew up Perth Amboy, died Asbury Park)\n",
            "Juan Agudelo (still active nowadays), soccer player for the New York Red Bulls and the U.S. men's national team (born in Colombia, raised in Barnegat)\n",
            "Akon (still active nowadays),[7] platinum R&B singer, born in St.Louis, MO, partly raised in Senegal and then moved to Jersey City\n",
            "Carlo Alban (still active nowadays), actor, Prison Break (born in Ecuador, grew up in Sayreville)\n",
            "Jeff Anderson (still active nowadays), actor, Randal Graves in Kevin Smith's View Askewniverse (born in Connecticut, raised in Atlantic Highlands)\n",
            "Mark Attanasio, owner of the Milwaukee Brewers (The Bronx, raised in Tenafly)\n",
            "Trey Anastasio (still active nowadays), guitarist, composer, and vocalist for the rock band Phish (Fort Worth, Texas, raised in Princeton)\n",
            "Ben Bailey (still active nowadays), comedian, former host of Cash Cab (Bowling Green, Kentucky, grew up in Chatham)\n",
            "Joe Bastardi (still active nowadays), weather forecaster (Providence, Rhode Island, partly raised in Somers Point)\n",
            "Laura Benanti (still active nowadays) Tony Award-winning Broadway actress (New York City, grew up in Kinnelon)\n",
            "Moe Berg (1902–1972), MLB catcher and spy during World War II (New York City, raised in Newark)\n",
            "Steve Berman (still active nowadays) gay author (Philadelphia, raised in Cherry Hill)\n",
            "Bonnie Bernstein (still active nowadays), television and radio sportscaster (Brooklyn, raised in Howell)\n",
            "Ahmed Best (still active nowadays), voice actor, Jar Jar Binks in the Star Wars prequel trilogy (New York City, raised in Maplewood)\n",
            "Michael Ian Black (still active nowadays), comedian, actor, Ed, The State, Viva Variety (Chicago, raised in Hillsborough)\n",
            "Cory Booker (still active nowadays), politician, former mayor of Newark; current United States Senator (born in Washington, D.C., raised in Harrington Park)\n",
            "Anthony Bourdain (still active nowadays) chef, author and television personality (New York City, grew up in Leonia)\n",
            "James L. Brooks (still active nowadays), film and television producer and director (Brooklyn, grew up in North Bergen)\n",
            "Joe Budden (still active nowadays) rap musician (Spanish Harlem, raised in Jersey City)\n",
            "Tisha Campbell (still active nowadays), actress (Oklahoma City, raised in Newark)\n",
            "Johnny Cannizzaro, actor,  Jersey Boys, writer, producer (Brooklyn, NY), raised in Holmdel)\n",
            "David Cassidy (still active nowadays), actor and singer (New York City, grew up in West Orange)[8]\n",
            "Luis Castillo (still active nowadays), NFL defensive end, formerly of the San Diego Chargers (Brooklyn, raised in Garfield)\n",
            "Kevin Chamberlin (still active nowadays), actor, Road to Perdition, Die Hard with a Vengeance (Baltimore, MD, raised in Moorestown)\n",
            "Mona Charen (still active nowadays), columnist, political analyst, author (New York City, raised in Livingston)\n",
            "David Chase (still active nowadays), creator, The Sopranos (Mount Vernon, New York, grew up in Clifton and North Caldwell)\n",
            "Chino XL (still active nowadays), rapper, actor (Bronx, grew up in East Orange)\n",
            "Lauren Cohan (still active nowadays), actress, Maggie Greene on The Walking Dead (Philadelphia, partially raised in Cherry Hill)\n",
            "Rhys Coiro (still active nowadays), actor, Billy Walsh on Entourage (Calabria, Italy,[9] moved to Princeton)\n",
            "Doris Coley (still active nowadays), later known as Doris Coley-Kenner and then Doris Kenner-Jackson, singer with The Shirelles.\n",
            "Monica Crowley (still active nowadays), radio and television commentator (born in Arizona, raised in Warren Township)\n",
            "Tom Cruise (still active nowadays), actor (Syracuse, New York, grew up in Glen Ridge)\n",
            "Michael Cudlitz (still active nowadays), actor, Southland, Standoff, Beverly Hills, 90210 (Long Island, NY, raised in Lakewood)\n",
            "David DeJesus (still active nowadays), Major League Baseball outfielder (Brooklyn, grew up in Manalapan Township)\n",
            "Kat DeLuna (still active nowadays), pop and R&B singer (Bronx, NY, partly raised in Newark)\n",
            "William Demarest (1892–1983), character actor (St. Paul, MN, grew up in New Bridge in Bergen County)\n",
            "Rosemarie DeWitt (still active nowadays), actress, United States of Tara, Standoff (Queens, NY, raised in Hanover Township)\n",
            "Tate Donovan (still active nowadays), actor, Damages, The O.C., Hercules (New York City, raised in Englewood and Tenafly)\n",
            "Sean Doolittle (still active nowadays), pitcher for the Oakland A's (Rapid City, South Dakota, grew up in Tabernacle)\n",
            "Karen Duffy (still active nowadays), model and actress (New York City, grew up in Park Ridge)\n",
            "Andrew Fastow (still active nowadays), CFO at Enron, convicted felon (Washington, D.C., grew up in New Providence)\n",
            "Linda Fiorentino (still active nowadays), actress (Philadelphia, grew up in Turnersville[10])\n",
            "Oscar Fraley (1914–1994), co-author of Eliot Ness's memoir, The Untouchables (Philadelphia, grew up in Woodbury)\n",
            "Lawrence Frank (still active nowadays), professional basketball coach (New York City, raised in Teaneck)\n",
            "Milton Friedman (1912–2006), Nobel Prize-winning economist, statistician, and public intellectual (Brooklyn, grew up in Rahway)\n",
            "Daisy Fuentes (still active nowadays), model and TV personality (Havana, Cuba, grew up in Newark and Harrison)\n",
            "Junior Galette (still active nowadays), defensive end and linebacker for the New Orleans Saints (Port-au-Prince, Haiti, grew up in Montvale)\n",
            "Jim Gary (1939–2006), sculptor (born in Sebastian, Florida, grew up from infancy in Colts Neck) and resided in New Jersey for the rest of his life)\n",
            "Camille Grammer (still active nowadays), cast member on The Real Housewives of Beverly Hills (Newport Beach, CA, raised in Jersey City)[11]\n",
            "Bob Guccione (1930–2010), founder and publisher of Penthouse magazine (Brooklyn, raised in Bergenfield)\n",
            "Vida Guerra (still active nowadays), model (Havana, raised in Perth Amboy)\n",
            "Valerie Harper (still active nowadays), actress (Suffern, raised in Jersey City)\n",
            "Debbie Harry (still active nowadays), singer and actress (Miami, raised in Hawthorne)\n",
            "Anne Hathaway (still active nowadays), actress (born in Brooklyn, raised in Millburn)\n",
            "Ethan Hawke (still active nowadays), actor (Austin, Texas, partly raised in West Windsor)\n",
            "Bob Herbert (still active nowadays), op-ed columnist for The New York Times (Brooklyn, raised in Montclair)\n",
            "Orel Hershiser (still active nowadays), Cy Young-winning baseball pitcher and ESPN baseball analyst (Buffalo, New York, raised in Cherry Hill)\n",
            "Will Hill (still active nowadays), safety for the Baltimore Ravens (Jacksonville, Florida, raised in West Orange)\n",
            "Lloyd Huck (1922–2012), business executive and philanthropist (Brooklyn, raised in Nutley)\n",
            "Toomas Hendrik Ilves (still active nowadays), President of Estonia (Stockholm, Sweden, raised in Leonia)\n",
            "Sheena Iyengar (still active nowadays), professor at Columbia Business School, specializing in research on choice (born in Toronto, grew up in Flushing, Queens and Elmwood Park)\n",
            "Millie Jackson (still active nowadays), R&B/soul singer-songwriter (Thomson, Georgia, raised in Newark and Brooklyn)\n",
            "Chris Jent (still active nowadays), NBA player, assistant coach for the Cleveland Cavaliers (Orange, California, grew up in Sparta)\n",
            "Joe Jonas (still active nowadays), singer, member of the Jonas Brothers (Casa Grande, Arizona, grew up in Wyckoff)\n",
            "Nick Jonas (still active nowadays), singer, member of the Jonas Brothers (Dallas, grew up in Wyckoff)\n",
            "Brian Joo (still active nowadays), Korean singer (Los Angeles, raised in Absecon)\n",
            "Ryan Kalish (still active nowadays), outfielder with the Chicago Cubs (Los Angeles, raised in Shrewsbury)\n",
            "Kevin Kelly (still active nowadays), founding executive editor of Wired magazine (born in Pennsylvania, grew up in Westfield)\n",
            "Michael Kidd-Gilchrist (still active nowadays), small forward for the Charlotte Hornets (Philadelphia, grew up in Somerdale)\n",
            "Ezra Koenig (still active nowadays), musician, Vampire Weekend (New York City, raised in Northern New Jersey)\n",
            "Ezra Miller,(still active nowadays), actor, singer, drummer, and guitarist\n",
            "Denyce Lawton (still active nowadays), actress and model, Tyler Perry's House of Payne (Seoul, South Korea, partly raised in Neptune)\n",
            "Amy Lee (still active nowadays), Korean singer known as Ailee (Denver, Colorado, grew up in Palisades Park and Leonia)\n",
            "Ted Leo (still active nowadays), indie rock musician (South Bend, Indiana, raised in Bloomfield)[12]\n",
            "Samm Levine (still active nowadays), actor, Freaks and Geeks, Inglourious Basterds (Chicago, raised in Fort Lee)\n",
            "Carl Lewis (still active nowadays), track and field legend, nine-time Olympic gold medalist (Birmingham, Alabama, grew up in Willingboro)\n",
            "Richard Lewis (still active nowadays), comedian, actor, Anything but Love, Curb Your Enthusiasm (Brooklyn, raised in Englewood)\n",
            "G. Gordon Liddy (still active nowadays), chief operative for the White House Plumbers unit under the Nixon administration (Brooklyn, raised in Hoboken and West Caldwell)\n",
            "Naomi Cornelia Long Madgett (still active nowadays), poet (Norfolk, Virginia, partly raised in East Orange)\n",
            "Bill Maher (still active nowadays), comedian, actor, TV personality, left wing pundit, Real Time with Bill Maher (New York City, grew up in River Vale)\n",
            "Michelle Malkin (still active nowadays), conservative pundit (Philadelphia, grew up in Absecon)\n",
            "Constantine Maroulis (still active nowadays), singer (New York City, grew up in Wyckoff)\n",
            "Gene Mayer (still active nowadays), tennis player (Queens, grew up in Wayne)\n",
            "Page McConnell (still active nowadays), songwriter and keyboardist with the rock band Phish (Philadelphia, raised in Basking Ridge)\n",
            "Devin McCourty (still active nowadays), cornerback for the New England Patriots (Nyack, New York, raised in Montvale)\n",
            "John C. McGinley (still active nowadays), actor, Perry Cox on Scrubs (New York City, grew up in Millburn)\n",
            "Lea Michele (still active nowadays), actress, Rachel Berry on Glee (Bronx, raised in Tenafly)\n",
            "Bea Miller (still active nowadays), singer (Maplewood)\n",
            "Natalia Alexandra Mitsuoka (still active nowadays), Argentinian figure skater (born in Argentina, raised in New Providence)\n",
            "Matt Mulhern (still active nowadays), actor, filmmaker, Major Dad (Philadelphia, raised in Montvale)\n",
            "Brittany Murphy (1977–2009), actress, King of the Hill, Happy Feet, 8 Mile (Atlanta, grew up in Edison and Burbank, California)\n",
            "Jim Nantz (still active nowadays), sportscaster for CBS Sports (Charlotte, North Carolina, grew up in Colts Neck Township)\n",
            "Jack Nicholson (still active nowadays), Oscar-winning actor (New York City, grew up in Neptune City)\n",
            "J. J. North, actress (Philadelphia, raised in New Jersey)\n",
            "Karen O (still active nowadays), lead singer of the Yeah Yeah Yeahs (born in South Korea, raised in Englewood)\n",
            "Christine O'Donnell (still active nowadays), 2010 Republican candidate for Senator of Delaware (Philadelphia, grew up in Moorestown)\n",
            "Brian O'Halloran (still active nowadays), actor in Kevin Smith's View Askewniverse (Manhattan, partly raised in Old Bridge)\n",
            "Rick Overton (still active nowadays), actor, comedian (Forest Hills, raised in Englewood)\n",
            "Scott Patterson (still active nowadays), actor, Gilmore Girls, The Event, Aliens in America (Philadelphia, raised in Haddonfield)\n",
            "Piper Perabo (still active nowadays), actress, Cheaper by the Dozen (Dallas, grew up in Toms River)\n",
            "Maxwell Perkins (1884–1947), editor for Ernest Hemingway, F. Scott Fitzgerald, and Thomas Wolfe (New York City, grew up in Plainfield)\n",
            "Clarke Peters (still active nowadays), actor, Det. Lester Freamon on The Wire (New York City, grew up in Englewood)\n",
            "Shaun Phillips (still active nowadays), outside linebacker for the San Diego Chargers (Philadelphia, raised in Willingboro Township)\n",
            "Carol Potter (still active nowadays), actress, Beverly Hills, 90210, Sunset Beach (New York City, grew up in Tenafly)\n",
            "Dwight Muhammad Qawi (still active nowadays), former world boxing champion and Boxing Hall of Famer (Baltimore, grew up in Camden)\n",
            "Rebecca Quick (still active nowadays), co-anchorwoman of CNBC's Squawk Box (born in Indiana, raised in Medford)\n",
            "Anna Quindlen (still active nowadays), author, journalist, and Pulitzer Prize-winning columnist (Philadelphia, graduated from South Brunswick High School in South Brunswick)\n",
            "B. J. Raji (still active nowadays), nose tackle for the Green Bay Packers (New York City, raised in Washington Township)\n",
            "Christopher Reeve (still active nowadays), actor (New York City, grew up in Princeton)\n",
            "Shirley Alston-Reeves (born Shirley Owens, 1941) lead singer of The Shirelles, grew up in Passaic\n",
            "Christina Ricci (still active nowadays), actress (Santa Monica, California, grew up in Montclair)\n",
            "Cameron Richardson (still active nowadays), actress and model, Cover Me, Point Pleasant, Alvin and the Chipmunks (Baton Rouge, Louisiana, raised in Old Bridge Township)\n",
            "Ian Roberts (still active nowadays), actor, comedian, Upright Citizens Brigade, Reno 911! (Queens, NY, raised in Secaucus)\n",
            "Michelle Rodriguez (still active nowadays), actress, Avatar, the Fast and the Furious movies, S.W.A.T. (Bexar County, TX, partly raised in Jersey City)\n",
            "Howie Roseman (still active nowadays), general manager for the Philadelphia Eagles (Brooklyn, raised in Marlboro)\n",
            "Carl Sagan (1934–1996), astronomer, astrochemist and author (Ithaca, New York, grew up in Rahway)\n",
            "Samardo Samuels (still active nowadays), player for the Cleveland Cavaliers (Trelawny, Jamaica, raised in Newark)\n",
            "Gabe Saporta (still active nowadays), singer and musician, currently for the pop rock band Cobra Starship (Montevideo, Uruguay, grew up in Springfield Township)\n",
            "Susan Sarandon (still active nowadays), actress (New York City, grew up in Edison)\n",
            "Jessica Savitch (1947–1983), television journalist (Kennett Square, PA, partly raised in Margate City)\n",
            "Adam Schlesinger (still active nowadays), musician (Fountains of Wayne), songwriter, producer, arranger (Manhattan, grew up in Montclair)\n",
            "Jon Seda (still active nowadays), actor, Homicide: Life on the Street, Kevin Hill, Close to Home (New York City, grew up in Clifton)\n",
            "Gene Shalit (still active nowadays), film critic of NBC's Today (New York City, raised in Morristown)\n",
            "Brooke Shields (still active nowadays), actress, Suddenly Susan (New York City, grew up in Englewood)\n",
            "Andrew Shue (still active nowadays), actor, Melrose Place (Wilmington, DE, raised in South Orange)[13]\n",
            "Elisabeth Shue (still active nowadays), actress, Back to the Future Part II (Wilmington, DE, raised in South Orange)[13]\n",
            "George P. Shultz (still active nowadays). Secretary of State, Secretary of the Treasury, Director of the Office of Management and Budget, and Secretary of Labor (New York City, grew up in Englewood)\n",
            "Bryan Singer (still active nowadays), film director (New York City, grew up in Princeton Junction)\n",
            "Patti Smith (still active nowadays), rock musician (Chicago, grew up in Woodbury)\n",
            "John Spencer (1946–2005), actor, The West Wing, L.A. Law, The Rock (New York City, grew up in Totowa)\n",
            "Steven Spielberg (still active nowadays), legendary Hollywood director and producer (Cincinnati, partly raised in Haddon Township)\n",
            "David Stern (still active nowadays), former NBA commissioner, member of the Basketball Hall of Fame (New York City, raised in Teaneck)\n",
            "Jon Stewart (still active nowadays), comedian, actor and television personality (New York City, grew up in Lawrence Township)\n",
            "Jack Tatum (1948–2010), NFL safety primarily with the Oakland Raiders (Cherryville, NC, grew up in Passaic)\n",
            "Joseph Hooton Taylor, Jr. (still active nowadays), Nobel Prize-winning astrophysicist (Philadelphia, raised in Cinnaminson)\n",
            "Lance Thomas (still active nowadays), player for the New Orleans Hornets (Brooklyn, NY, raised in Scotch Plains)\n",
            "Steven Van Zandt (still active nowadays), rock musician, actor, The Sopranos (Winthrop, Massachusetts, grew up in Middletown)\n",
            "Bruce Vilanch (still active nowadays), comedy writer (New York City, raised in Paterson)\n",
            "Frank Vincent (still active nowadays), actor (North Adams, Massachusetts, grew up in Jersey City)\n",
            "Voltaire (still active nowadays), musician (Havana, Cuba)\n",
            "Rodney Wallace (still active nowadays), mixed martial artist (Bamberg, South Carolina, raised in Passaic)\n",
            "Brian Williams (still active nowadays), disgraced anchor of NBC Nightly News (Elmira, New York, partly raised in Middletown)\n",
            "Bruce Willis (still active nowadays), actor (Idar-Oberstein, Germany, grew up in Penns Grove)\n",
            "Scott Wolf (still active nowadays), actor, Party of Five, Everwood, The Nine (Boston, raised in West Orange)\n",
            "Teresa Wright (1918–2005), Oscar-winning actress, The Best Years of Our Lives, The Pride of the Yankees (New York City, grew up in Maplewood)\n",
            "Born in New Jersey, grew up elsewhere[change | change source]\n",
            "Grover Cleveland\n",
            "Kirsten Dunst\n",
            "Sterling Hayden\n",
            "Derek Jeter\n",
            "Richard Matheson\n",
            "Kevin Spacey\n",
            "Jack Abramoff (still active nowadays), former lobbyist and businessman convicted of fraud, conspiracy, and tax evasion (Atlantic City, moved to Beverly Hills, California at age 9)\n",
            "Lavoy Allen (still active nowadays), power forward for the Philadelphia 76ers (Trenton, moved to Pennsylvania)\n",
            "Jozy Altidore (still active nowadays), soccer player (Livingston, raised in Boca Raton, Florida)\n",
            "Priscilla Barnes (still active nowadays), actress, Terri Alden on Three's Company (Fort Dix, raised in California)\n",
            "Jeffrey Bewkes (still active nowadays), CEO and Chairman of Time Warner (Paterson, raised in Darien, Connecticut)\n",
            "Robert Blake (still active nowadays), actor, Baretta (born in Nutley, raised in Los Angeles)\n",
            "Elizabeth Bogush (still active nowadays), actress, Titans (Perth Amboy, raised in Pittsburgh, PA and Hingham, MA)[14]\n",
            "Phil Bredesen (still active nowadays), Governor of Tennessee (Oceanport, grew up in different parts of the country)\n",
            "Marshon Brooks (still active nowadays), player with the New Jersey Nets (Long Branch, raised in Tucker, Georgia)\n",
            "Michael R. Burns (still active nowadays), Vice Chairman of Lions Gate Entertainment (born in Long Branch, raised in New Canaan, Connecticut)\n",
            "Mary Chapin Carpenter (still active nowadays), Grammy-winning folk and country singer (born in Princeton; moved to Japan, then Washington, D.C.)\n",
            "Sean Casey (still active nowadays), former MLB All-Star first baseman, current color commentator for the Cincinnati Reds (Willingboro, moved to Pittsburgh)\n",
            "Paul Cushing Child (1902–1994), husband of celebrity chef Julia Child (Montclair, raised in Boston)\n",
            "Grover Cleveland (1837–1908), 22nd and 24th President of the United States (Caldwell, raised in western New York)\n",
            "Jason Cook (still active nowadays), actor, Days of Our Lives, General Hospital (Somerdale, raised in California)\n",
            "Brian De Palma (still active nowadays), film director (born in Newark, raised in Philadelphia and New Hampshire)\n",
            "Brian Delate (still active nowadays), actor (Trenton, raised in Bucks County, Pennsylvania)\n",
            "Kirsten Dunst (still active nowadays), actress, Mary Jane Watson in the Spider-Man trilogy (Point Pleasant, raised in Los Angeles)\n",
            "Eric Ebron (still active nowadays), tight end for the Detroit Lions (Newark, moved to North Carolina)\n",
            "Mel Ferrer (1917–2008), actor, director, Falcon Crest (Elberon, raised in New York and Connecticut)\n",
            "John Forsythe (1918–2010), actor, Dynasty, Charlie's Angels, Bachelor Father (Penns Grove, raised in Brooklyn, New York)\n",
            "Kate French (still active nowadays), actress, Wicked Wicked Games, The L Word (Flemington, raised in Long Island, NY)\n",
            "Dana Fuchs (still active nowadays), singer/songwriter (born in New Jersey, raised in Wildwood, Florida)\n",
            "Janeane Garofalo (still active nowadays), comedian, actress, left-wing activist (born in Newton, raised in California and Texas)\n",
            "David Garrard (still active nowadays), quarterback for the Jacksonville Jaguars (Plainfield, raised in Durham, North Carolina)\n",
            "Paul Gleason (1939–2006), actor, The Breakfast Club (Jersey City, raised in Florida)\n",
            "Mike Goodson (still active nowadays), running back for the Oakland Raiders (born in Irvington, raised in Texas)\n",
            "Chuck Greenberg (still active nowadays), former owner of the Texas Rangers (Englewood, raised in Pittsburgh)\n",
            "Robert David Hall (still active nowadays), actor, CSI (East Orange, moved to California)\n",
            "Sterling Hayden (1916–1986), actor (born in Upper Montclair; as a child, moved to New Hampshire, Massachusetts, Pennsylvania, D.C., and Maine)\n",
            "Jason Heyward (still active nowadays), right fielder for the Atlanta Braves (Ridgewood, raised in Georgia)\n",
            "Debra Hill (1950–2005), screenwriter, producer (Haddonfield, grew up in Philadelphia)\n",
            "Linda Hunt (still active nowadays), Oscar-winning actress (Morristown, raised in Westport, Connecticut)\n",
            "Ice-T (still active nowadays), rapper and actor (Newark, moved to Los Angeles)\n",
            "Richie Incognito (still active nowadays), guard for the Miami Dolphins (Englewood, grew up in Glendale, Arizona)\n",
            "Derek Jeter (still active nowadays), shortstop for the New York Yankees (born in Pequannock, but raised primarily in Kalamazoo, Michigan)\n",
            "Richard Kind (still active nowadays) actor, Mad About You, Spin City (Trenton, raised in Pennsylvania)\n",
            "Bobby Korecky (still active nowadays), relief pitcher for the Toronto Blue Jays (Hillside, moved to Michigan)\n",
            "Scott LaFaro (1936–1961), jazz double bassist (Irvington, grew up in Geneva, New York)\n",
            "Sue Ane Langdon (still active nowadays), actress, Arnie, Bachelor Father (Paterson, raised in New York, Michigan, and Oregon)\n",
            "Gordon MacRae (1921–1986), actor, singer (East Orange, raised in Massachusetts and New York)\n",
            "Norman Mailer (1923–2007), Pulitzer Prize-winning novelist, essayist, poet (Long Branch, raised in Brooklyn)\n",
            "Camryn Manheim (still active nowadays), Emmy-winning actress & left-wing activist, The Practice, Ghost Whisperer, The L Word (West Caldwell, grew up in Peoria, Illinois)\n",
            "Richard Matheson (1926–2013), sci-fi and fantasy author and screenwriter (Allendale, raised in Brooklyn)\n",
            "Lindsey McKeon (still active nowadays), actress, Saved by the Bell: The New Class, Guiding Light (Summit, raised in Los Angeles)\n",
            "Kate Micucci (still active nowadays), actress, comedian, and singer-songwriter (born in NJ, raised in Nazareth, Pennsylvania)\n",
            "Bob Milacki (still active nowadays), former MLB pitcher, primarily with the Baltimore Orioles (Trenton, raised in Lake Havasu City, Arizona)\n",
            "Christina Milian (still active nowadays), R&B and pop singer-songwriter, dancer, actress, and model (Jersey City, grew up in Waldorf, Maryland, moved to Los Angeles)\n",
            "Eric Millegan (still active nowadays), actor, Zack Addy on Bones (Hackettstown, raised in Springfield, Oregon)\n",
            "Philip Morrison (1915–2005), prominent physicist (Somerville, grew up in Pittsburgh)\n",
            "Charlie Morton (still active nowadays), pitcher for the Pittsburgh Pirates (Flemington, moved to Connecticut)\n",
            "Montell Owens (still active nowadays), fullback for the Jacksonville Jaguars (Plainfield, moved to Delaware)\n",
            "Daniel Pearl (1963–2002), journalist who was kidnapped and killed by Al-Qaeda (Princeton, grew up in Los Angeles)\n",
            "A. J. Price (still active nowadays), point guard for the Indiana Pacers (Orange, raised in East Massapequa, NY)\n",
            "Dana Reeve (1961–2006), actress, singer, widow of Christopher Reeve (born in Teaneck, raised in Greenburgh, New York)\n",
            "Dennis Rodman (still active nowadays), former NBA forward, who played primarily with the Detroit Pistons and the Chicago Bulls (Trenton, grew up in Dallas, Texas)\n",
            "Joe Rogan (still active nowadays) comedian, actor, UFC color commentator (born in Bridgewater, raised in Newton, Massachusetts)\n",
            "Paul Rudd (still active nowadays), actor, Knocked Up, The 40-Year-Old Virgin, Friends (born in Passaic, raised in Overland Park, Kansas)\n",
            "Zoe Saldana (still active nowadays), actress, Avatar, Pirates of the Caribbean, Star Trek (Passaic, raised in Queens, New York)\n",
            "Cindy Sherman (still active nowadays), photographer (born in Glen Ridge, raised in Huntington, New York)\n",
            "Paul Simon (still active nowadays), musician, composer (born in Newark, grew up in Queens, New York)\n",
            "Kevin Spacey (still active nowadays), actor (born in South Orange, grew up in Southern California)\n",
            "J. Michael Straczynski (still active nowadays), writer, producer, creator of Babylon 5 and its spin-off (born in Paterson, grew up in different parts of the country)\n",
            "Red Strader (1902–1956), AAFC and NFL head coach (Newton, raised in Modesto, California)\n",
            "Terrell Suggs (still active nowadays), linebacker for the Baltimore Ravens (Fair Haven, raised in Saint Paul, Minnesota)\n",
            "Dave Thomas (1932–2002), founder of the Wendy's fast food restaurant chain (born in Atlantic City, grew up in different parts of the country)\n",
            "Jack Warden (1920–2006), Emmy-winning actor, N.Y.P.D., The Bad News Bears, Crazy Like a Fox (Newark, grew up in Louisville, Kentucky)\n",
            "Liza Weil (still active nowadays), actress, Paris Geller on Gilmore Girls (born in NJ, raised in Lansdale, Pennsylvania)\n",
            "Jane Wyatt (1910–2006), three-time Emmy-winning actress, Father Knows Best (Mahwah, raised in New York City)\n",
            "Nick Zano (still active nowadays), actor, What I Like About You, Beverly Hills Chihuahua (Nutley, grew up in Wellington, Florida)\n",
            "Born elsewhere, live in New Jersey[change | change source]\n",
            "Muhammad Ali\n",
            "Yogi Berra\n",
            "Jeff Feagles\n",
            "Willie Randolph\n",
            "CC Sabathia\n",
            "Dave Winfield\n",
            "Danny Aiello (born New York City), lives in Saddle River\n",
            "Alan Alda (born New York City), lives in Leonia\n",
            "Muhammad Ali (born Louisville, Kentucky), lives in Cherry Hill\n",
            "Paul Anka (born Ottawa, Ontario, Canada), lives in Tenafly\n",
            "AZ (born New York City), lives in Englewood\n",
            "Brian Baldinger (born Pittsburgh, Pennsylvania), lives in Cherry Hill\n",
            "Jesse Barfield (born Joliet, Illinois), lives in Tenafly\n",
            "Yogi Berra (born St. Louis, Missouri) lives in Montclair\n",
            "George Benson (born Pittsburgh, Pennsylvania), lives in Englewood\n",
            "Mary J. Blige (born New York City), lives in Cresskill\n",
            "Andre Braugher (born Chicago, Illinois), lives in South Orange\n",
            "Jim Bunning (born Southgate, Kentucky), lives in Cherry Hill\n",
            "Jim Byrnes (born St. Louis, Missouri), lives in Allendale\n",
            "Harry Carson (born Florence, South Carolina), lives in Franklin Lakes\n",
            "Vince Carter (born Daytona Beach, Florida), lives in Saddle River\n",
            "Sarah Chang (born Philadelphia, Pennsylvania), lives in Cherry Hill\n",
            "Connie Chung (born Washington, D.C.), lives in Middletown\n",
            "Mary Higgins Clark (born New York City) Lives in Saddle River\n",
            "Bobby Clarke (born Flin Flon, Manitoba), lives in Cherry Hill\n",
            "Alon Cohen (born Israel), lives in Tenafly\n",
            "Stephen Colbert (born Charleston, South Carolina), lives in Montclair\n",
            "Sean Combs (\"Diddy\") (born New York City), lives in Alpine\n",
            "Peter Criss (born Brooklyn, New York), lives in Wall Township\n",
            "Johnny Damon (born Fort Riley, Kansas), lives in Ridgewood\n",
            "Damon Dash (born New York City), lives in Alpine\n",
            "Darryl Dawkins (born Orlando, Florida), lives in Marlboro\n",
            "Steve Doocy (born Algona, Iowa), lives in Wyckoff\n",
            "Halim El-Dabh (born Cairo, Egypt), lives in Cresskill\n",
            "Melissa Elliott (\"Missy\") (born Portsmouth, Virginia), lives in Kinnelon\n",
            "Jeff Feagles (born Anaheim, California), lives in Ridgewood\n",
            "Lior Haramaty (born Israel), lives in Tenafly\n",
            "Bobby Hebb (born Nashville, Tennessee), lives in Cresskill\n",
            "Sam Huff (born Morgantown, West Virginia), lives in Franklin Lakes\n",
            "Jay Z (born New York City), lives in Alpine\n",
            "Tommy John (born Terre Haute, Indiana), lives in Franklin Lakes\n",
            "Michael Johns (born Allentown, Pennsylvania), lives in Deptford\n",
            "Jim Jones (rapper) (born New York City), lives in Fair Lawn\n",
            "Zab Judah (born New York City), lives in Teaneck\n",
            "Kitty Kallen (born Philadelphia, Pennsylvania), lives in Englewood\n",
            "Jevon Kearse (born Fort Myers, Florida), lives in Moorestown\n",
            "Jason Kidd (born San Francisco, California), lives in Saddle River\n",
            "Lil' Kim (born New York City), lives in Alpine\n",
            "Bernard King (born New York City), lives in Franklin Lakes\n",
            "Michael Landon (born Queens, New York City), lived in Collingswood\n",
            "Phoebe Laub (born New York City), lives in Teaneck\n",
            "Bettye LaVette (born Muskegon, Michigan), lives in West Orange\n",
            "Heather Locklear (born Westwood, Los Angeles), lives in Wayne\n",
            "Mario (born Baltimore, Maryland), lives in Teaneck\n",
            "Tino Martinez (born Tampa, Florida), lives in Tenafly\n",
            "Fred Mascherino (born Philadelphia, Pennsylvania), lives in Union\n",
            "Don Mattingly (born Evansville, Indiana), lives in Tenafly\n",
            "Darryl \"D.M.C.\" McDaniels (born New York City), lives in Wayne\n",
            "Bob McGrath (born Ottawa, Illinois), lives in Teaneck\n",
            "Donovan McNabb (born Chicago, Illinois), lives in Moorestown\n",
            "Bob Menne (born and lives in Demarest)\n",
            "Eddie Murphy (born New York City), lives in Englewood\n",
            "Bob Menne (born and lives in Demarest)\n",
            "Richard Milhous Nixon (born Yorba Linda, California), lived in Saddle River\n",
            "Tina Nordström (b. Valluv, Skåne County in Sweden), lives in Englewood Cliffs\n",
            "Jonathan M. Parisen (b. Staten Island, New York), lives in East Orange\n",
            "Randal Pinkett (born Philadelphia, PA), lives in Somerset\n",
            "Maury Povich (born Washington, D.C.), lives in Middletown\n",
            "Aidan Quinn (born Rockford, Illinois), lives in Englewood\n",
            "Willie Randolph (born Holly Hill, South Carolina), lives in Franklin Lakes\n",
            "Geraldo Rivera (born New York City), lives in Middletown\n",
            "Sylvia Robinson (born New York City), lives in Englewood\n",
            "Chris Rock (born Andrews, South Carolina), lives in Alpine\n",
            "Jeremy Roenick (born Boston, Massachusetts), lives in Moorestown\n",
            "Jimmy Rollins (born Oakland, California) lives in Woolwich Township\n",
            "Ja Rule (born New York City), lives in Saddle River\n",
            "CC Sabathia (born Vallejo, California), lives in Alpine\n",
            "Gary Sheffield (born Tampa, Florida), lives in Alpine\n",
            "Lito Sheppard (born Jacksonville, Florida), lives in Moorestown\n",
            "Brooke Shields (born New York City), lives in Englewood\n",
            "Joseph Simmons (born New York City), lives in Saddle River\n",
            "Kimora Lee Simmons (born St. Louis, Missouri), lives in Saddle River\n",
            "Russell Simmons (born New York City), lives in Saddle River\n",
            "Phil Simms (born Lebanon, Kentucky), lives in Franklin Lakes\n",
            "Wesley Snipes (born Orlando, Florida), lives in Alpine\n",
            "Luis Sojo (born Miranda State, Venezuela), lives in Saddle Brook\n",
            "Paul Sorvino (born New York City), lives in Tenafly\n",
            "James \"J.T.\" Taylor (born Laurens, South Carolina), lives in Franklin Lakes\n",
            "Mitch Williams (born Santa Ana, California), lives in Medford\n",
            "Dave Winfield (born Saint Paul, Minnesota), lives in Teaneck\n",
            "Stevie Wonder (born Saginaw, Michigan), lives in Alpine\n",
            "Feng Yun (born Liaoning, China), lives in New Jersey\n",
            "Shou-Wu Zhang (born Hexian, Anhui, China), lives in Tenafly\n",
            "Related pages[change | change source]\n",
            "List of people from Montclair, New Jersey\n",
            "List of people from Teaneck, New Jersey\n",
            "List of people from Union City, New Jersey\n",
            "References[change | change source]\n",
            "↑ Who Was Who in America, Historical Volume, 1607–1896. Marquis Who's Who. 1967.\n",
            "↑ \"The Emergency Room\". Cardiakflatline.com. Archived from the original on June 13, 2012. Retrieved June 18, 2012.\n",
            "↑ Philip Carey on IMDb\n",
            "↑ \"Danny DeVito\". Hollywood.com. Archived from the original on September 6, 2012. Retrieved June 18, 2012.\n",
            "↑ \"John Harkes\". Soccertimes.com. Archived from the original on January 12, 2009. Retrieved June 18, 2012.\n",
            "↑ Cowan, Sylvia Nasar With Alison Leigh (1994-04-03). \"A Wall St. Star's Agonizing Confession\". The New York Times. ISSN 0362-4331. Retrieved 2022-04-15.\n",
            "↑ \"Akon's Recession-Proof Tune\". Forbes. July 9, 2009. Archived from the original on September 18, 2012. Retrieved August 31, 2017.\n",
            "↑ \"David Bruce Cassidy\". Davidcassidyfansite.com. Archived from the original on February 19, 2012. Retrieved June 18, 2012.\n",
            "↑ Rhys Coiro on IMDb\n",
            "↑ Donahue, Deirdre. \"Leggy Linda Fiorentino says Gotcha! to some of the silver screen's cutest virgin hunks.\", People, May 27, 1985. \"Growing up in South Philly and later Turnersville, N.J. gave Linda a street-kid sensibility.\"\n",
            "↑ \"Camille Grammer\". PopEater.com. Archived from the original on August 10, 2009. Retrieved April 1, 2011.\n",
            "↑ Lomax, John Nova. \"Gang of New Jersey: Ted Leo and the Pharmacists mingle rampant Europhilia with American Girl\" Archived 2007-06-30 at the Wayback Machine, The Village Voice, April 16, 2007. Accessed December 25, 2007. \"Bloomfield, Leo's hometown, is just west of New York City and just north of Newark.\"\n",
            "↑ 13.0 13.1 Bandler, Michael J. (December 20, 2007). \"The Will to Win\". New Jersey Monthly.\n",
            "↑ Elizabeth Bogush on IMDb\n",
            "vteState of New JerseyTrenton (capital)Topics\n",
            "Delegations\n",
            "Elections\n",
            "Geography\n",
            "Government\n",
            "History\n",
            "Law\n",
            "Media\n",
            "Municipalities\n",
            "Music\n",
            "Parks\n",
            "People\n",
            "Symbols\n",
            "Transportation\n",
            "Society\n",
            "Cuisine\n",
            "Culture\n",
            "Crime\n",
            "Demographics\n",
            "Economy\n",
            "Education\n",
            "Gambling\n",
            "Politics\n",
            "Regions\n",
            "Atlantic Coastal Plain\n",
            "Central Jersey\n",
            "Delaware River Region\n",
            "Delaware Valley\n",
            "Gateway Region\n",
            "Gold Coast\n",
            "Highlands\n",
            "Jersey Shore\n",
            "Meadowlands\n",
            "New York metro area\n",
            "North Hudson\n",
            "North Jersey\n",
            "Pascack Valley\n",
            "Piedmont\n",
            "Pine Barrens\n",
            "Raritan Bayshore\n",
            "Ridge-and-Valley Appalachians\n",
            "Southern Shore Region\n",
            "Skylands Region\n",
            "South Jersey\n",
            "Tri‑State Region\n",
            "West Hudson\n",
            "Counties\n",
            "Atlantic\n",
            "Bergen\n",
            "Burlington\n",
            "Camden\n",
            "Cape May\n",
            "Cumberland\n",
            "Essex\n",
            "Gloucester\n",
            "Hudson\n",
            "Hunterdon\n",
            "Mercer\n",
            "Middlesex\n",
            "Monmouth\n",
            "Morris\n",
            "Ocean\n",
            "Passaic\n",
            "Salem\n",
            "Somerset\n",
            "Sussex\n",
            "Union\n",
            "Warren\n",
            "Major cities and towns\n",
            "Atlantic City\n",
            "Bayonne\n",
            "Camden\n",
            "Clifton\n",
            "Edison\n",
            "Elizabeth\n",
            "Hackensack\n",
            "Hoboken\n",
            "Jersey City\n",
            "Newark\n",
            "New Brunswick\n",
            "Ocean City\n",
            "Paterson\n",
            "Perth Amboy\n",
            "Trenton\n",
            "Vineland\n",
            "Woodbridge\n",
            "vteLists of people by U.S. stateStates\n",
            "Alabama\n",
            "Alaska\n",
            "Arizona\n",
            "Arkansas\n",
            "California\n",
            "Colorado\n",
            "Connecticut\n",
            "Delaware\n",
            "Florida\n",
            "Georgia\n",
            "Hawaii\n",
            "Idaho\n",
            "Illinois\n",
            "Indiana\n",
            "Iowa\n",
            "Kansas\n",
            "Kentucky\n",
            "Louisiana\n",
            "Maine\n",
            "Maryland\n",
            "Massachusetts\n",
            "Michigan\n",
            "Minnesota\n",
            "Mississippi\n",
            "Missouri\n",
            "Montana\n",
            "Nebraska\n",
            "Nevada\n",
            "New Hampshire\n",
            "New Jersey\n",
            "New Mexico\n",
            "New York\n",
            "North Carolina\n",
            "North Dakota\n",
            "Ohio\n",
            "Oklahoma\n",
            "Oregon\n",
            "Pennsylvania\n",
            "Rhode Island\n",
            "South Carolina\n",
            "South Dakota\n",
            "Tennessee\n",
            "Texas\n",
            "Utah\n",
            "Vermont\n",
            "Virginia\n",
            "Washington\n",
            "West Virginia\n",
            "Wisconsin\n",
            "Wyoming\n",
            "Federal districtWashington, D.C.Insular areas\n",
            "American Samoa\n",
            "Guam\n",
            "Northern Mariana Islands\n",
            "Puerto Rico \n",
            "U.S. Virgin Islands\n",
            "Retrieved from \"https://simple.wikipedia.org/w/index.php?title=List_of_people_from_New_Jersey&oldid=10311017\"\n",
            "Category: Lists of people from New JerseyHidden categories: Webarchive template wayback linksDynamic lists\n",
            " This page was last changed on 5 June 2025, at 12:43.\n",
            "Text is available under the Creative Commons Attribution-ShareAlike License and the GFDL; additional terms may apply. See Terms of Use for details.\n",
            "Privacy policy\n",
            "About Wikipedia\n",
            "Disclaimers\n",
            "Code of Conduct\n",
            "Developers\n",
            "Statistics\n",
            "Cookie statement\n",
            "Mobile view\n",
            "Search\n",
            "Search\n",
            "Toggle the table of contents\n",
            "List of people from New Jersey\n",
            "2 languages\n",
            "Add topic\n",
            "\n"
          ]
        }
      ]
    },
    {
      "cell_type": "code",
      "source": [
        "# PennGrader - DO NOT CHANGE\n",
        "grader.grade(test_case_id = 'test_q13_sub_regex_function', answer = q13_text_sub)"
      ],
      "metadata": {
        "id": "Dh3T2Rc-PNGQ",
        "colab": {
          "base_uri": "https://localhost:8080/"
        },
        "outputId": "789355f6-6874-48e1-8f5e-dcf86fb44c3f"
      },
      "execution_count": 249,
      "outputs": [
        {
          "output_type": "stream",
          "name": "stdout",
          "text": [
            "Correct! You earned 5/5 points. You are a star!\n",
            "\n",
            "Your submission has been successfully recorded in the gradebook.\n"
          ]
        }
      ]
    },
    {
      "cell_type": "markdown",
      "metadata": {
        "id": "6Ajo37bOBKrj"
      },
      "source": [
        "# Section 2. Tokenization [47 points]"
      ]
    },
    {
      "cell_type": "markdown",
      "metadata": {
        "id": "OmvUD6P3BYXF"
      },
      "source": [
        "## 2.1 Naive Way"
      ]
    },
    {
      "cell_type": "markdown",
      "metadata": {
        "id": "9KBLIpmDBZZO"
      },
      "source": [
        "### 2.1.1 Whitespace Tokenizer - 2 points\n",
        "Word tokenization is the process of splitting a large sample of text into words. This is a requirement in natural language processing tasks where each word needs to be captured and subjected to further analysis like classifying and counting them for a particular sentiment etc.\n",
        "\n",
        "Whitespace Tokenizer is the most basic tokenizer which splits strings on ICU-defined whitespace characters (eg. space, tab, new line).\n",
        "This is often good for quickly building out prototype models."
      ]
    },
    {
      "cell_type": "markdown",
      "metadata": {
        "id": "cBFfjHSxOSdz"
      },
      "source": [
        "- **Problem 2.1.1** Whitespace Tokenizer\n",
        "  - **Overview**: Implement the function `whitespaceTokenizer()` to tokenize the sentence by splitting with whitespace characters\n",
        "  - **Input**: a string\n",
        "  - **Output**: a list of strings\n",
        "  - **Requirements**:\n",
        "      - Split the input text by whitespaces and return a list of tokens\n",
        "      - The function should also be able to recognize other forms of whitespaces, such as `\\n`\n",
        "      - Please only use Python's built-in functions. NLTK and other packages should not be used here\n",
        "  - **Example**: `\"This is a test\"` -> `[\"This\", \"is\", \"a\", \"test\"]`"
      ]
    },
    {
      "cell_type": "code",
      "execution_count": 250,
      "metadata": {
        "id": "VHKwG11sBKSA",
        "colab": {
          "base_uri": "https://localhost:8080/"
        },
        "outputId": "20a735f1-1773-4a19-a3fc-51554839eb65"
      },
      "outputs": [
        {
          "output_type": "stream",
          "name": "stdout",
          "text": [
            "['Hello,', 'this', 'is', 'a', 'test']\n"
          ]
        },
        {
          "output_type": "execute_result",
          "data": {
            "text/plain": [
              "['Hello,', 'this', 'is', 'a', 'test']"
            ]
          },
          "metadata": {},
          "execution_count": 250
        }
      ],
      "source": [
        "def whitespaceTokenizer(text):\n",
        "    \"\"\"\n",
        "    Tokenize the sentence by splitting with whitespace characters\n",
        "    Use built-in functions only\n",
        "\n",
        "    @param text: the string to be tokenized\n",
        "    @return: a list of strings\n",
        "    \"\"\"\n",
        "    # TODO\n",
        "    tokens = text.split()\n",
        "    print(tokens)\n",
        "    return tokens\n",
        "\n",
        "whitespaceTokenizer('Hello, this is a test')"
      ]
    },
    {
      "cell_type": "code",
      "source": [
        "text = \"This is a test\"\n",
        "assert whitespaceTokenizer(text) == [\"This\", \"is\", \"a\", \"test\"]"
      ],
      "metadata": {
        "id": "_G3MDZd9uSgj",
        "colab": {
          "base_uri": "https://localhost:8080/"
        },
        "outputId": "1ca7d431-9478-44a7-dc12-ccd76d1abbce"
      },
      "execution_count": 251,
      "outputs": [
        {
          "output_type": "stream",
          "name": "stdout",
          "text": [
            "['This', 'is', 'a', 'test']\n"
          ]
        }
      ]
    },
    {
      "cell_type": "code",
      "execution_count": 252,
      "metadata": {
        "id": "vNSlfEdMBizj",
        "colab": {
          "base_uri": "https://localhost:8080/"
        },
        "outputId": "85d5d760-310f-44e3-c5dc-aa3ccab0a2e5"
      },
      "outputs": [
        {
          "output_type": "stream",
          "name": "stdout",
          "text": [
            "Correct! You earned 2/2 points. You are a star!\n",
            "\n",
            "Your submission has been successfully recorded in the gradebook.\n"
          ]
        }
      ],
      "source": [
        "# PennGrader - DO NOT CHANGE\n",
        "grader.grade(test_case_id = 'test_q211_whitespace_tokenizer_function', answer = getsource(whitespaceTokenizer))"
      ]
    },
    {
      "cell_type": "markdown",
      "metadata": {
        "id": "EpFxmzWsC5ns"
      },
      "source": [
        "### 2.1.2 Update Whitespace Tokenizer - 2 points\n",
        "\n",
        "We see that seperating words with spaces works sometimes, but what if there are punctuations? With the most basic implementation in 2.1.1, `\"This, is a test!\"` will become `[\"This,\", \"is\", \"a\", \"test!\"]` after tokenization. This is not what we usually want. Punctuation is often treated as a special token. For instance, periods and exclamation points mark the end of a sentence. Therefore, naturally we want them to be separated with words during tokenization.\n",
        "\n",
        "Please implement `whitespaceTokenizerUpdate()` as an updated version that separates all the punctuations when splitting words with whitespaces."
      ]
    },
    {
      "cell_type": "markdown",
      "metadata": {
        "id": "Ho2sPJ-JbIcD"
      },
      "source": [
        "- **Problem 2.1.2** Update Whitespace Tokenizer\n",
        "  - **Overview**: Implement the function `whitespaceTokenizerUpdate()` to tokenize the sentence by splitting the whitespace characters and separating punctuation at the same time\n",
        "  - **Input**: a string\n",
        "  - **Output**: a list of strings\n",
        "  - **Requirements**:\n",
        "      - Split the input text by whitespaces and return a list of tokens\n",
        "      - The function should also be able to recognize other forms of whitespaces, such as `\\n`, and separate punctuations from words\n",
        "      - Please only use Python's built-in functions. NLTK and other packages should not be used here\n",
        "      - You may assume there are only common English punctuations\n",
        "  - **Example**: `\"This 212, is a test!\"` -> `[\"This\", \"212\", \",\" \"is\", \"a\", \"test\", \"!\"]`"
      ]
    },
    {
      "cell_type": "code",
      "execution_count": 253,
      "metadata": {
        "id": "W9iUxuWeBmG6",
        "colab": {
          "base_uri": "https://localhost:8080/"
        },
        "outputId": "c8226885-707b-4d26-ae32-610cb29cd1c1"
      },
      "outputs": [
        {
          "output_type": "stream",
          "name": "stdout",
          "text": [
            "['This', '212', ',', 'is', 'a', 'test', '!']\n",
            "['Hello', 'world', '!']\n",
            "['Don', \"'\", 't', 'stop', '!']\n"
          ]
        }
      ],
      "source": [
        "\n",
        "def whitespaceTokenizerUpdate(text):\n",
        "    tokens = []\n",
        "    for part in text.split():\n",
        "        # Find sequences of word characters OR single punctuation marks\n",
        "        tokens.extend(re.findall(r\"\\w+|[^\\w\\s]\", part))\n",
        "    return tokens\n",
        "print(whitespaceTokenizerUpdate(\"This 212, is a test!\"))\n",
        "# [\"This\", \"212\", \",\", \"is\", \"a\", \"test\", \"!\"]\n",
        "\n",
        "print(whitespaceTokenizerUpdate(\"Hello\\nworld!\"))\n",
        "# [\"Hello\", \"world\", \"!\"]\n",
        "\n",
        "print(whitespaceTokenizerUpdate(\"Don't stop!\"))\n",
        "# [\"Don\", \"'\", \"t\", \"stop\", \"!\"]"
      ]
    },
    {
      "cell_type": "markdown",
      "source": [],
      "metadata": {
        "id": "GgtTK74iHByL"
      }
    },
    {
      "cell_type": "code",
      "source": [
        "text = \"This 212, is a test!\"\n",
        "assert whitespaceTokenizerUpdate(text) == [\"This\", \"212\", \",\", \"is\", \"a\", \"test\", \"!\"]"
      ],
      "metadata": {
        "id": "rygJJz2eucAB"
      },
      "execution_count": 254,
      "outputs": []
    },
    {
      "cell_type": "code",
      "execution_count": 255,
      "metadata": {
        "id": "nnIOsabVC91W",
        "colab": {
          "base_uri": "https://localhost:8080/"
        },
        "outputId": "cce74734-a3e4-4285-d3cb-7ced912ef248"
      },
      "outputs": [
        {
          "output_type": "stream",
          "name": "stdout",
          "text": [
            "Correct! You earned 2/2 points. You are a star!\n",
            "\n",
            "Your submission has been successfully recorded in the gradebook.\n"
          ]
        }
      ],
      "source": [
        "# PennGrader - DO NOT CHANGE\n",
        "grader.grade(test_case_id = 'test_q212_whitespace_tokenizer_update', answer = getsource(whitespaceTokenizerUpdate))"
      ]
    },
    {
      "cell_type": "markdown",
      "metadata": {
        "id": "hkfTD4MtDEO2"
      },
      "source": [
        "### 2.1.3 Tokenize with NLTK Library - 4 points\n",
        "You must have noticed that tokenization can be very tricky depending on your needs. With the updated whitespace tokenizer, you could probably get desirable results in 95% of the tasks with someting super simple, and 99% with an extra 20-60 minutes of updating. It may require a lot more to get to 99.9%.\n",
        "\n",
        "Luckily, there are many useful resources from the NLTK library that can help with this task.\n"
      ]
    },
    {
      "cell_type": "markdown",
      "metadata": {
        "id": "DIg83ChmcelF"
      },
      "source": [
        "- **Problem 2.1.3** NLTK's word tokenizer.\n",
        "  - **Overview**: Implement the function `nltk_tokenize_content()` to tokenize sentences\n",
        "  - **Input**: a string\n",
        "  - **Output**: a list of strings\n",
        "  - **Requirements**:\n",
        "      - Convert the input text to lower case\n",
        "      - Utilize NLTK's `work_tokenize()` function\n",
        "      - Remove all the non-words and stop words (hint: non-words: words are not purely alphabetic. In other words, a 'word' should be purely alphabetic.)\n",
        "  - **Example**: `\"Good muffins cost $3.88\\nin New (York).  Please (buy) me\\ntwo of them.\\n(Thanks).\"` -> `['good', 'muffins', 'cost', 'new', 'york', 'please', 'buy', 'two', 'thanks']`"
      ]
    },
    {
      "cell_type": "code",
      "execution_count": 256,
      "metadata": {
        "id": "PRBCs4hpDGhu",
        "colab": {
          "base_uri": "https://localhost:8080/"
        },
        "outputId": "88891777-56a8-456b-ca96-6843405dc4f7"
      },
      "outputs": [
        {
          "output_type": "stream",
          "name": "stderr",
          "text": [
            "[nltk_data] Downloading package stopwords to /root/nltk_data...\n",
            "[nltk_data]   Package stopwords is already up-to-date!\n",
            "[nltk_data] Downloading package punkt to /root/nltk_data...\n",
            "[nltk_data]   Package punkt is already up-to-date!\n",
            "[nltk_data] Downloading package punkt_tab to /root/nltk_data...\n",
            "[nltk_data]   Package punkt_tab is already up-to-date!\n"
          ]
        }
      ],
      "source": [
        "### Download Resources ###\n",
        "### DO NOT CHANGE ###\n",
        "import nltk\n",
        "from nltk.corpus import stopwords\n",
        "nltk.download('stopwords')\n",
        "nltk.download('punkt')\n",
        "nltk.download('punkt_tab')\n",
        "stopwords = set(stopwords.words('english'))\n",
        "### DO NOT CHANGE ###"
      ]
    },
    {
      "cell_type": "code",
      "execution_count": 257,
      "metadata": {
        "id": "5je1B0QKDHlz"
      },
      "outputs": [],
      "source": [
        "\n",
        "import re\n",
        "\n",
        "\n",
        "def nltk_tokenize_content(text):\n",
        "    \"\"\"\n",
        "    Tokenize with nltk, lowercase, remove stopwords and non-word tokens.\n",
        "    \"\"\"\n",
        "    tokens = nltk.word_tokenize(text.lower())\n",
        "    return [x for x in tokens if x.isalpha() and x not in stopwords]"
      ]
    },
    {
      "cell_type": "code",
      "source": [
        "text = \"Good muffins cost $3.88\\nin New (York).  Please (buy) me\\ntwo of them.\\n(Thanks).\"\n",
        "assert nltk_tokenize_content(text) == ['good', 'muffins', 'cost', 'new', 'york', 'please', 'buy', 'two', 'thanks']"
      ],
      "metadata": {
        "id": "m392mCrtx7bL"
      },
      "execution_count": 258,
      "outputs": []
    },
    {
      "cell_type": "code",
      "execution_count": 259,
      "metadata": {
        "id": "EKDdw_gqDYOJ",
        "colab": {
          "base_uri": "https://localhost:8080/"
        },
        "outputId": "6e53ac5b-0228-49ab-9b1b-b5fae27e0730"
      },
      "outputs": [
        {
          "output_type": "stream",
          "name": "stdout",
          "text": [
            "Correct! You earned 4/4 points. You are a star!\n",
            "\n",
            "Your submission has been successfully recorded in the gradebook.\n"
          ]
        }
      ],
      "source": [
        "### Test cases ###\n",
        "### DO NOT CHANGE ###\n",
        "test_sents = [\n",
        "    \"The 19-year-old singer was caught on camera being escorted out of the store by security guards.\",\n",
        "    \"“A program is never less than 90% complete, and never more than 95% complete.”— Terry Baker's quote'\",\n",
        "    \"To train such a large model, OpenAI crawled 40GB worth of text from the web (roughly 20,000,000,000 words).\",\n",
        "    \"text = 'God is Great! I won a lottery.'; 'id': 22189,\"\n",
        "]\n",
        "test_results = [nltk_tokenize_content(sent) for sent in test_sents]\n",
        "### DO NOT CHANGE ###\n",
        "\n",
        "# PennGrader - DO NOT CHANGE\n",
        "grader.grade(test_case_id = 'test_q213_nltk_tokenizer_function', answer = test_results)"
      ]
    },
    {
      "cell_type": "markdown",
      "metadata": {
        "id": "SIrKJs4EDdHx"
      },
      "source": [
        "As a side note, one commonly used tokenization standard is known as the Penn Treebank tokenization standard, which uses regular expressions to tokenize text.\n",
        "\n",
        "This standard has the following features:\n",
        "\n",
        "- split standard contractions, e.g. doesn't -> does & n't; they'll -> they & 'll\n",
        "- keep hyphenated words together\n",
        "- treat most punctuation characters as separate tokens\n",
        "- split off commas and single quotes, when followed by whitespace\n",
        "- separate periods that appear at the end of a line\n",
        "\n",
        "In practice, since tokenization needs to be run before any other language processing, it needs to be very fast. The standard method for tokenization is therefore to use deterministic algorithms based on regular expressions compiled into very efficient finite state automata.\n",
        "\n",
        "With regular expressions, it is very convenient to customize the tokenization algorithm with the NLTK library. For example, instead of removing all stop words and non-word tokens, we may want to keep a selective set of tokens. e.g. percentages and complex words:\n"
      ]
    },
    {
      "cell_type": "code",
      "execution_count": 260,
      "metadata": {
        "id": "gvTWXcSyDdry",
        "colab": {
          "base_uri": "https://localhost:8080/"
        },
        "outputId": "0d52c4b0-c746-42a7-bd6a-dbb2a8f4d6a9"
      },
      "outputs": [
        {
          "output_type": "stream",
          "name": "stdout",
          "text": [
            "['That', 'U.S.A.', 'poster-print', 'costs', '$12.40', '...']\n"
          ]
        }
      ],
      "source": [
        "### EXAMPLE ###\n",
        "### DO NOT CHANGE ###\n",
        "text = 'That U.S.A. poster-print costs $12.40...'\n",
        "pattern = r'''(?x)          # set flag to allow verbose regexps\n",
        "        (?:[A-Z]\\.)+        # abbreviations, e.g. U.S.A.\n",
        "      | \\w+(?:-\\w+)*        # words with optional internal hyphens\n",
        "      | \\$?\\d+(?:\\.\\d+)?%?  # currency and percentages, e.g. $12.40, 82%\n",
        "      | \\.\\.\\.              # ellipsis\n",
        "      | [][.,;\"'?():_`-]    # these are separate tokens; includes ], [\n",
        "    '''\n",
        "print(nltk.regexp_tokenize(text, pattern))\n",
        "### DO NOT CHANGE ###"
      ]
    },
    {
      "cell_type": "markdown",
      "metadata": {
        "id": "mzZathogDjFM"
      },
      "source": [
        "## 2.2 Tokenize with Stanza/allennlp Library - 5 points\n",
        "[Stanza](https://stanfordnlp.github.io/stanza/tokenize.html) is another useful tool for word tokenization. Upon feeding it raw text, Stanza will:\n",
        "- Tokenize it and groups tokens into sentences as the first step of processing\n",
        "- Unlike other existing toolkits, Stanza combines tokenization and sentence segmentation from raw text into a single module.\n",
        "(This is done to predict the position of words in a sentence, as use of words are context-sensitive in some languages.)\n"
      ]
    },
    {
      "cell_type": "code",
      "execution_count": 261,
      "metadata": {
        "id": "PvTBmZvzDkHp",
        "colab": {
          "base_uri": "https://localhost:8080/",
          "height": 228
        },
        "outputId": "10f1752d-9a22-4f70-fdf0-fe70f9a68dfa"
      },
      "outputs": [
        {
          "output_type": "stream",
          "name": "stderr",
          "text": [
            "INFO:stanza:Checking for updates to resources.json in case models have been updated.  Note: this behavior can be turned off with download_method=None or download_method=DownloadMethod.REUSE_RESOURCES\n",
            "INFO:stanza:Loading these models for language: en (English):\n",
            "========================\n",
            "| Processor | Package  |\n",
            "------------------------\n",
            "| tokenize  | combined |\n",
            "========================\n",
            "\n",
            "INFO:stanza:Using device: cpu\n",
            "INFO:stanza:Loading: tokenize\n",
            "INFO:stanza:Done loading processors!\n"
          ]
        }
      ],
      "source": [
        "### Import stanza ###\n",
        "### DO NOT CHANGE ###\n",
        "%%capture\n",
        "!pip install stanza==1.5.0\n",
        "import stanza\n",
        "\n",
        "nlp = stanza.Pipeline(lang='en', processors='tokenize')\n",
        "### DO NOT CHANGE ###"
      ]
    },
    {
      "cell_type": "markdown",
      "metadata": {
        "id": "JU7JhlDxDoWk"
      },
      "source": [
        "- **Problem 2.2**: Stanza tokenizer\n",
        "\n",
        "  - **Overview**: Implement the function `stanza_tokenizer()` to tokenize a sentence using the stanza tokenizer.\n",
        "  - **Input**: a string\n",
        "  - **Output**: a list of strings\n",
        "  - **Requirements**:\n",
        "      - Utilize Stanza's pipeline (the variable `nlp` in the above cell)\n",
        "      - Check the documentation [here](https://stanfordnlp.github.io/stanza/tokenize.html)\n",
        "  - **Example**: `\"Good muffins cost $3.88\\nin New (York).  Please (buy) me\\ntwo of them.\\n(Thanks).\"` -> `['Good', 'muffins', 'cost', '$', '3.88', 'in', 'New', '(', 'York', ')', '.', 'Please', '(', 'buy', ')', 'me', 'two', 'of', 'them', '.', '(', 'Thanks', ')', '.']`"
      ]
    },
    {
      "cell_type": "code",
      "execution_count": 262,
      "metadata": {
        "id": "XSALiix1Dqd3",
        "colab": {
          "base_uri": "https://localhost:8080/"
        },
        "outputId": "76e95cf4-e8bb-4689-9eef-1aed831a6205"
      },
      "outputs": [
        {
          "output_type": "execute_result",
          "data": {
            "text/plain": [
              "['Good',\n",
              " 'muffins',\n",
              " 'cost',\n",
              " '$',\n",
              " '3.88',\n",
              " 'in',\n",
              " 'New',\n",
              " '(',\n",
              " 'York',\n",
              " ')',\n",
              " '.',\n",
              " 'Please',\n",
              " '(',\n",
              " 'buy',\n",
              " ')',\n",
              " 'me',\n",
              " 'two',\n",
              " 'of',\n",
              " 'them',\n",
              " '.',\n",
              " '(',\n",
              " 'Thanks',\n",
              " ')',\n",
              " '.']"
            ]
          },
          "metadata": {},
          "execution_count": 262
        }
      ],
      "source": [
        "def stanza_tokenizer(text):\n",
        "    \"\"\"\n",
        "    Tokenize the input text with stanza's word tokenizer\n",
        "    see https://stanfordnlp.github.io/stanza/tokenize.html\n",
        "\n",
        "    @param text: the string for tokenization\n",
        "    @return: a list of tokens\n",
        "    \"\"\"\n",
        "    # TODO\n",
        "    tokens = []\n",
        "    doc = nlp(text)\n",
        "    for sentence in doc.sentences:\n",
        "        for token in sentence.tokens:\n",
        "          tokens.append(token.text)\n",
        "    return tokens\n",
        "\n",
        "text = \"Good muffins cost $3.88\\nin New (York).  Please (buy) me\\ntwo of them.\\n(Thanks).\"\n",
        "stanza_tokenizer(text)"
      ]
    },
    {
      "cell_type": "code",
      "source": [
        "text = \"Good muffins cost $3.88\\nin New (York).  Please (buy) me\\ntwo of them.\\n(Thanks).\"\n",
        "assert stanza_tokenizer(text) == ['Good', 'muffins', 'cost', '$', '3.88', 'in', 'New', '(', 'York', ')', '.', 'Please', '(', 'buy', ')', 'me', 'two', 'of', 'them', '.', '(', 'Thanks', ')', '.']"
      ],
      "metadata": {
        "id": "vTwNJFiZyli0"
      },
      "execution_count": 263,
      "outputs": []
    },
    {
      "cell_type": "code",
      "execution_count": 264,
      "metadata": {
        "id": "vUtUma5ADzHo",
        "colab": {
          "base_uri": "https://localhost:8080/"
        },
        "outputId": "f04475cd-66ba-4c7a-99f9-49e6e8dde8d6"
      },
      "outputs": [
        {
          "output_type": "stream",
          "name": "stdout",
          "text": [
            "Correct! You earned 5/5 points. You are a star!\n",
            "\n",
            "Your submission has been successfully recorded in the gradebook.\n"
          ]
        }
      ],
      "source": [
        "### DO NOT CHANGE ###\n",
        "test_sents = [\n",
        "    'Antidisestablishmentarianism',\n",
        "    'Conversationalization',\n",
        "    \"Most have seen this as Trump partisanizing the issue, much as he has with masks.\",\n",
        "    \"“A program is never less than 90% complete, and never more than 95% complete.”— Terry Baker's quote'\",\n",
        "    \"This is a test sentence for stanza. This is another sentence.\"\n",
        "]\n",
        "test_results = [stanza_tokenizer(sent) for sent in test_sents]\n",
        "### DO NOT CHANGE ###\n",
        "\n",
        "# PennGrader - DO NOT CHANGE\n",
        "grader.grade(test_case_id = 'test_q22_stanza_tokenizer_function', answer = test_results)"
      ]
    },
    {
      "cell_type": "markdown",
      "metadata": {
        "id": "HHW8d04yECBz"
      },
      "source": [
        "## 2.3 Subword tokenizers (Byte-Pair Encoding) - 34 points\n",
        "\n",
        "Whole word tokenization algorithms aren't perfect, because some languages have many word-forms and words modification for each word, such as prefixes and suffixes. We want to save morphology information in the text, but to save every possible word-form isn't memory-efficient or easy to train. Even then, we might still run into unknown words during inference.\n",
        "\n",
        "Alternatively, subword can be used with a smaller vocabulary, and allow the model to have some information about novel words from the subwords that create them. We can create a tokenziation mechanism that will tokenize every word by subword morphology. The unsupervised algorithm that does so called is Byte Pair Encoding. Here is how it works:\n",
        "\n",
        "![](https://lena-voita.github.io/resources/lectures/seq2seq/bpe/build_merge_table.gif)\n",
        "\n",
        "1. Split text into individual characters\n",
        "2. Begin BPE with a vocabulary that is just the set of all individual characters.\n",
        "3. Choose the two symbols from the vocabulary that are most frequently adjacent in the corpus\n",
        "4. Merge the most popular pair and update the corpus with the new merge pair\n",
        "5. Continue to step 3 until we reach given vocabulary size.\n",
        "\n",
        "It's easy algorithm, and we have several implementations:\n",
        "- SentencePiece\n",
        "- fastBPE\n",
        "- Tokenizers by Huggingface🤗\n",
        "- YouTokenToMe\n",
        "\n",
        "We will now implement our BPE tokenization from scratch:"
      ]
    },
    {
      "cell_type": "markdown",
      "metadata": {
        "id": "0YMy7VCzEF4B"
      },
      "source": [
        "### 2.3.1 Wikipedia Simple Dataset Word Frequency - 5 points\n",
        "\n",
        "We'll use this [Wikipedia Simple Dataset](https://huggingface.co/datasets/dangne/processed-wikipedia-20220301.simple) as our training data for BPE tokenization. To begin with, we need to compute word frequencies which will guide merging during tokenization.\n",
        "\n",
        "- **Problem 2.3.1:** Compute word frequencies\n",
        "    - **Overview**: Implement the function `compute_word_freq()` to compute the frequencies of each word in the Wikipedia Simple dataset.\n",
        "    - **Input**: a list of strings (sentences), an int as threshold\n",
        "    - **Output**: a dictionary with words as keys and counts as values\n",
        "    - **Requirements**:\n",
        "        - Iterate over the corpus\n",
        "        - Tokenize each sentence with your `nltk_tokenize_content()` function in 2.1.3 to get a list of words\n",
        "        - Count the frequency of each word\n",
        "        - **Only keep a word if its frequency is equal or bigger than the threshold (50 by default)**\n",
        "    - **Example**:\n",
        "    \n",
        "\n",
        "```\n",
        ">>> lst = ['Good muffins cost $3.88\\nin New (York).  Please (buy) me\\ntwo of them.\\n(Thanks).', \\\n",
        "'Amidst the vibrant streets of New York, a cozy bakery entices passersby with the scent of freshly baked blueberry muffins.']\n",
        ">>> dic = compute_word_freq(lst, threshold = 2)\n",
        ">>> print(dic)\n",
        "{'muffins': 2, 'new': 2, 'york': 2}\n",
        "```\n"
      ]
    },
    {
      "cell_type": "code",
      "source": [
        "### Load data ###\n",
        "### DO NOT CHANGE ###\n",
        "%%capture\n",
        "!pip install datasets\n",
        "from datasets import load_dataset\n",
        "# see https://huggingface.co/docs/datasets/v1.8.0/loading_datasets.html#from-local-files\n",
        "data = load_dataset(\"dangne/processed-wikipedia-20220301.simple\")\n",
        "### DO NOT CHANGE ###"
      ],
      "metadata": {
        "id": "3PzjOz2019T-"
      },
      "execution_count": 265,
      "outputs": []
    },
    {
      "cell_type": "code",
      "execution_count": 266,
      "metadata": {
        "id": "eQZw39ciEIGG"
      },
      "outputs": [],
      "source": [
        "from collections import Counter\n",
        "\n",
        "def compute_word_freq(corpus, threshold=50):\n",
        "    \"\"\"\n",
        "    Tokenize corpus, count word frequencies, keep those >= threshold.\n",
        "    \"\"\"\n",
        "    tokens = []\n",
        "    for sentence in corpus:\n",
        "        tokens.extend(nltk_tokenize_content(sentence))\n",
        "    freq = Counter(tokens)\n",
        "    return {word: count for word, count in freq.items() if count >= threshold}"
      ]
    },
    {
      "cell_type": "code",
      "source": [
        "lst = ['Good muffins cost $3.88\\nin New (York).  Please (buy) me\\ntwo of them.\\n(Thanks).', \\\n",
        "'Amidst the vibrant streets of New York, a cozy bakery entices passersby with the scent of freshly baked blueberry muffins.']\n",
        "dic = compute_word_freq(lst, threshold = 2)\n",
        "assert dic == {'muffins': 2, 'new': 2, 'york': 2}"
      ],
      "metadata": {
        "id": "4DZSjOrz7dVS"
      },
      "execution_count": 267,
      "outputs": []
    },
    {
      "cell_type": "code",
      "source": [
        "### Compute word_freqs ###\n",
        "### DO NOT CHANGE ###\n",
        "corpus = [dp['text'] for dp in data['train']]\n",
        "word_freqs = compute_word_freq(corpus) # this line might take up to 10 minutes to finish, might be worth it to test it on a small corpus first (e.g. a few sentences)\n",
        "### DO NOT CHANGE ###"
      ],
      "metadata": {
        "id": "eOGHowCc0lcp"
      },
      "execution_count": 268,
      "outputs": []
    },
    {
      "cell_type": "code",
      "source": [
        "assert len(word_freqs) == 24900"
      ],
      "metadata": {
        "id": "SORgaOcqAwC4"
      },
      "execution_count": 269,
      "outputs": []
    },
    {
      "cell_type": "code",
      "execution_count": 270,
      "metadata": {
        "id": "syNPp9OwEMpX",
        "colab": {
          "base_uri": "https://localhost:8080/"
        },
        "outputId": "ec568c0a-b3b4-416b-b438-f3b020c42d98"
      },
      "outputs": [
        {
          "output_type": "stream",
          "name": "stdout",
          "text": [
            "Correct! You earned 5/5 points. You are a star!\n",
            "\n",
            "Your submission has been successfully recorded in the gradebook.\n"
          ]
        }
      ],
      "source": [
        "### DO NOT CHANGE ###\n",
        "test_corpus = [\n",
        "    \"The cat and dog playfully chased each other around the yard, showing their playful nature.\",\n",
        "    \"While the cat prefers to nap, the dog's favorite pastime is to play fetch in the park.\",\n",
        "    \"At the pet-friendly cafe, you can watch as the cat and dog interact and play with their toys.\",\n",
        "    \"The children laughed joyfully as they watched their pet cat and dog play together in the living room.\",\n",
        "    \"In the early morning, you can often see the cat and dog playfully exploring the garden side by side.\"\n",
        "]\n",
        "test_word_freqs = compute_word_freq(test_corpus, 3)\n",
        "### DO NOT CHANGE ###\n",
        "\n",
        "# PennGrader - DO NOT CHANGE\n",
        "grader.grade(test_case_id = 'test_q231_word_freq_function', answer = (test_word_freqs, word_freqs))"
      ]
    },
    {
      "cell_type": "markdown",
      "metadata": {
        "id": "z2QqTaQPEaqL"
      },
      "source": [
        "### 2.3.2 Construct an Alphabet for the Corpus - 4 points\n",
        "\n",
        "Now we have our corpus with all the frequencies. The next step is to build the vocabulary. As a very simple example, let's say our corpus uses these two words: `['april', 'proud']`, the base vocabulary would be `['a', 'd', 'i', 'l', 'o', 'p', 'r', 'u']`. For real-world cases, that base vocabulary will contain all the ASCII characters, at the very least, and probably some Unicode characters as well.\n",
        "\n",
        "Why do we need the vocabulary? Recall that the most frequent pairs will be added to the base vocabulary during training. The BPE algorithm will keep running until we reach a certain vocabulary size.\n",
        "\n",
        "For the convenience of training, here we will also split each word separately into individual characters. This will be used to compute the most frequent pairs.\n",
        "\n",
        "- **Problem 2.3.2-1**: Build vocabulary\n",
        "    - **Overview**: Implement The function `compute_vocab()` to build the base vocabulary for the corpus\n",
        "    - **Input**: a dictionary with words as keys and counts as values (`word_freqs`)\n",
        "    - **Output**: a list of characters\n",
        "    - **Requirements**:\n",
        "        - Sort the base vocabulary in lexicographic order.\n",
        "        - Please don't modify `word_freqs` in-place.\n",
        "    - **Example**: `{'april': 2, 'proud': 3}` -> `['a', 'd', 'i', 'l', 'o', 'p', 'r', 'u']`\n",
        "- **Problem 2.3.2-2**: Split corpus\n",
        "    - **Overview**: - Implement the function `corpus_splitter()` to split each word into individual characters in `word_freqs`\n",
        "    - **Input**: a dictionary with words as keys and counts as values (`word_freqs`)\n",
        "    - **Output**: a dictionary with words as keys and **a list of characters** as values\n",
        "    - **Requirements**:\n",
        "        - Please don't modify `word_freqs` in-place. Return a new dictionary\n",
        "    - **Example**: `{'april': 2, 'proud': 3}` -> `{'april': ['a','p', 'r', 'i', 'l'], 'proud': ['p', 'r', 'o', 'u', 'd']}`\n"
      ]
    },
    {
      "cell_type": "code",
      "source": [
        "def compute_vocab(word_freqs):\n",
        "    \"\"\"\n",
        "    Compute the base vocabulary from all words\n",
        "\n",
        "    @param word_freqs: the dictionary we get in 2.3.1\n",
        "    @return: a list of all unique characters\n",
        "    \"\"\"\n",
        "    # TODO\n",
        "    answer = []\n",
        "    for x in word_freqs.keys():\n",
        "        for g in x:\n",
        "          answer.append(g)\n",
        "    answer = sorted(set(answer))\n",
        "    return answer\n",
        "keys = {'april': 2}\n",
        "compute_vocab(keys)"
      ],
      "metadata": {
        "id": "54PBUgwewpYE",
        "colab": {
          "base_uri": "https://localhost:8080/"
        },
        "outputId": "9d7ca36e-1d57-478f-bcbf-8921da2d8b65"
      },
      "execution_count": 271,
      "outputs": [
        {
          "output_type": "execute_result",
          "data": {
            "text/plain": [
              "['a', 'i', 'l', 'p', 'r']"
            ]
          },
          "metadata": {},
          "execution_count": 271
        }
      ]
    },
    {
      "cell_type": "code",
      "source": [
        "base_vocab = compute_vocab(word_freqs)\n",
        "assert len(base_vocab) == 74"
      ],
      "metadata": {
        "id": "4TKzwVyvw6uV"
      },
      "execution_count": 272,
      "outputs": []
    },
    {
      "cell_type": "code",
      "execution_count": 273,
      "metadata": {
        "id": "o22Fd9zPEcmt",
        "colab": {
          "base_uri": "https://localhost:8080/"
        },
        "outputId": "4c805972-4e81-4089-95a0-8a4652316950"
      },
      "outputs": [
        {
          "output_type": "execute_result",
          "data": {
            "text/plain": [
              "{'april': ['a', 'p', 'r', 'i', 'l']}"
            ]
          },
          "metadata": {},
          "execution_count": 273
        }
      ],
      "source": [
        "def corpus_splitter(word_freqs):\n",
        "    \"\"\"\n",
        "    Split each word into individual characters (i.e. list of characters)\n",
        "    e.g. {april: [a, p, r, i, l]}\n",
        "\n",
        "    @param word_freqs: the dictionary we get in 2.3.1\n",
        "    @return: a dictionary in which keys are the words in word_freqs,\n",
        "      values are lists of characters after splitting\n",
        "    \"\"\"\n",
        "    # TODO\n",
        "    splits = {}\n",
        "    new_keys = word_freqs.keys()\n",
        "    return {x: list(x) for x in new_keys}\n",
        "keys = {'april': 2}\n",
        "corpus_splitter(keys)"
      ]
    },
    {
      "cell_type": "code",
      "execution_count": 274,
      "metadata": {
        "id": "FlJzaQ1ZEdmx"
      },
      "outputs": [],
      "source": [
        "splits = corpus_splitter(word_freqs)\n",
        "assert splits['april'] == ['a', 'p', 'r', 'i', 'l']"
      ]
    },
    {
      "cell_type": "code",
      "execution_count": 275,
      "metadata": {
        "id": "aut67NjIEhIa",
        "colab": {
          "base_uri": "https://localhost:8080/"
        },
        "outputId": "88ff4205-f592-4879-939e-fd5f0fae5cab"
      },
      "outputs": [
        {
          "output_type": "stream",
          "name": "stdout",
          "text": [
            "Correct! You earned 4/4 points. You are a star!\n",
            "\n",
            "Your submission has been successfully recorded in the gradebook.\n"
          ]
        }
      ],
      "source": [
        "# PennGrader - DO NOT CHANGE\n",
        "grader.grade(test_case_id = 'test_q232_alphabet_size_and_spliter', answer = (base_vocab, splits))"
      ]
    },
    {
      "cell_type": "markdown",
      "metadata": {
        "id": "gBToKlHMFK5l"
      },
      "source": [
        "### 2.3.3 Computer Token Pair Frequency - 4 points\n",
        "\n",
        "Now that we have the splitted corpus, we can compute the frequencies for each pair. Let's assume the words have the following frequencies: `{'april': 2, 'proud': 3}`. Then we look at frequencies of all pairs such as `(\"a\", \"p\")` and `(\"p\", \"r\")`. The pair `(\"a\", \"p\")` only appears in the word `'april'` so the frequency is also 2. The pair `(\"p\", \"r\")` is present in both words, so 5 times total in the corpus.\n",
        "\n",
        "It's very important to know that the the values in `splits` can include tokens with more than 1 character. For instance, after several rounds of training, the tokens of the word `'april'` could be `'april': ['ap', 'r', 'i', 'l']`. We will dig into the merge process in 2.3.4.\n",
        "\n",
        "- **Problem 2.3.3**: compute pair frequency\n",
        "    - **Overview**: Implement the function `compute_pair_freqs()` to compute the frequencies of **pairs of characters** as defined in the current vocabulary in the corpus.\n",
        "    - **Input**: `word_freqs` from 2.3.1, `splits` from 2.3.2\n",
        "    - **Output**: a dictionary with pairs (tuples) as keys and frequencies as values\n",
        "    - **Requirements**:\n",
        "        - Retrieve the pairs from `splits` and find their frequencies from `word_freqs`\n",
        "        - Please don't modify `word_freqs` and `splits`in-place\n",
        "    - **Example1**: `word_freqs = {'april': 2, 'proud': 3}; splits = {'april': ['a','p', 'r', 'i', 'l'], 'proud': ['p', 'r', 'o', 'u', 'd']}` -> `pair_freqs = {('a', 'p'): 2, ('p', 'r'): 5, ('r', 'i'): 2, ('i', 'l'): 2, ('r', 'o'): 3, ('o', 'u'): 3, ('u', 'd'): 3}`\n",
        "    - **Example2**: `word_freqs = {'april': 2, 'apricot': 3}; splits = {'april': ['ap', 'r', 'i', 'l'], 'apricot': ['ap', 'r', 'i', 'c', 'o', 't']}` -> `pair_freqs = {('ap', 'r'): 5,('r', 'i'): 5, ('i', 'l'): 2, ('i', 'c'): 3, ('c', 'o'): 3, ('o', 't'): 3}`"
      ]
    },
    {
      "cell_type": "code",
      "execution_count": 276,
      "metadata": {
        "id": "m_1co8K5f4eH"
      },
      "outputs": [],
      "source": [
        "from collections import defaultdict\n",
        "\n",
        "def compute_pair_freqs(word_freqs, splits):\n",
        "    \"\"\"\n",
        "    Compute the frequencies of token pairs from the current splits.\n",
        "\n",
        "    @param word_freqs: dict, word -> frequency\n",
        "    @param splits: dict, word -> list of tokens\n",
        "    @return: dict, pair(tuple) -> frequency\n",
        "    \"\"\"\n",
        "    pair_freqs = defaultdict(int)\n",
        "\n",
        "    for word, tokens in splits.items():\n",
        "        for i in range(len(tokens) - 1):\n",
        "            pair = (tokens[i], tokens[i + 1])\n",
        "            pair_freqs[pair] += word_freqs[word]\n",
        "\n",
        "    return dict(pair_freqs)\n"
      ]
    },
    {
      "cell_type": "code",
      "execution_count": 277,
      "metadata": {
        "id": "-xsTl6mOgva2"
      },
      "outputs": [],
      "source": [
        "pair_freqs = compute_pair_freqs(word_freqs, splits)"
      ]
    },
    {
      "cell_type": "code",
      "execution_count": 278,
      "metadata": {
        "id": "Gn_aoL0C6Ww9",
        "colab": {
          "base_uri": "https://localhost:8080/"
        },
        "outputId": "76199742-3965-43d5-96c8-9a83a6bef190"
      },
      "outputs": [
        {
          "output_type": "stream",
          "name": "stdout",
          "text": [
            "Correct! You earned 4/4 points. You are a star!\n",
            "\n",
            "Your submission has been successfully recorded in the gradebook.\n"
          ]
        }
      ],
      "source": [
        "# PennGrader - DO NOT CHANGE\n",
        "grader.grade(test_case_id = 'test_q233_pair_freqs', answer = pair_freqs)"
      ]
    },
    {
      "cell_type": "markdown",
      "metadata": {
        "id": "ONS8Xmabd8-8"
      },
      "source": [
        "### 2.3.4 Merge Token Pairs in Corpus - 6 points\n",
        "\n",
        "After getting `pair_freqs`, we're able to find the most frequent pairs from it. As is mentioned previously, we will update `splits` by merge these pairs. Let's use the same example again. Suppose the `pair_freqs` is `{('a', 'p'): 2, ('p', 'r'): 5, ('r', 'i'): 2, ('i', 'l'): 2, ('r', 'o'): 3, ('o', 'u'): 3, ('u', 'd'): 3}`, we will find the most frequent pair is `('p', 'r')`. Then, the updated `splits` will be: `{'april': ['a','pr', 'i', 'l'], 'proud': ['pr', 'o', 'u', 'd']}`\n",
        "\n",
        "- **Problem 2.3.4**: Merge pair\n",
        "    - **Overview**: Implement the function `merge_pair` to merge a specified pair of tokens, and update the entire splits with the merge.\n",
        "    - **Input**: the first and second tokens to be merged; a dictionary in the same format as `splits`\n",
        "    - **Output**: the updated splits\n",
        "    - **Hint**:\n",
        "        - You can assume `(a, b)` is the most frequent pair. There's no need to find the max frequencies.\n",
        "    - **Example**: `a = 'p', b = 'r', splits = {'april': ['a','p', 'r', 'i', 'l'], 'proud': ['p', 'r', 'o', 'u', 'd']}` -> `updated_splits = {'april': ['a','pr', 'i', 'l'], 'proud': ['pr', 'o', 'u', 'd']}`"
      ]
    },
    {
      "cell_type": "code",
      "execution_count": 279,
      "metadata": {
        "id": "DKW0-79ng055"
      },
      "outputs": [],
      "source": [
        "def merge_pair(a, b, splits):\n",
        "    \"\"\"\n",
        "    Merge (a, b) into 'ab' in all words' splits.\n",
        "    \"\"\"\n",
        "    updated_splits = {}\n",
        "    for word, tokens in splits.items():\n",
        "        new_tokens = []\n",
        "        i = 0\n",
        "        while i < len(tokens):\n",
        "            if i + 1 < len(tokens) and tokens[i] == a and tokens[i + 1] == b:\n",
        "                new_tokens.append(a + b)\n",
        "                i += 2\n",
        "            else:\n",
        "                new_tokens.append(tokens[i])\n",
        "                i += 1\n",
        "        updated_splits[word] = new_tokens\n",
        "    return updated_splits"
      ]
    },
    {
      "cell_type": "code",
      "execution_count": 280,
      "metadata": {
        "id": "0j7L5nU_6xs1",
        "colab": {
          "base_uri": "https://localhost:8080/"
        },
        "outputId": "865f5f4f-6462-4575-f7ea-6440abac14f1"
      },
      "outputs": [
        {
          "output_type": "stream",
          "name": "stdout",
          "text": [
            "Correct! You earned 6/6 points. You are a star!\n",
            "\n",
            "Your submission has been successfully recorded in the gradebook.\n"
          ]
        }
      ],
      "source": [
        "test_splits = {\n",
        "    'april': ['a', 'p', 'r', 'i', 'l'],\n",
        "    'apartment': ['a', 'p', 'a', 'r', 't', 'm', 'e', 'n', 't']\n",
        "}\n",
        "test_merge_result = merge_pair('a', 'p', test_splits)\n",
        "\n",
        "# PennGrader - DO NOT CHANGE\n",
        "grader.grade(test_case_id = 'test_q234_merge_pair_function', answer = test_merge_result)"
      ]
    },
    {
      "cell_type": "markdown",
      "metadata": {
        "id": "fevTMY7neGcd"
      },
      "source": [
        "### 2.3.5 Putting it all together - 15 points\n",
        "\n",
        "With all the building blocks above, we're ready to train. Let's review the procedure and put everything together.\n",
        "\n",
        "- **Problem 2.3.5-1**:\n",
        "    - **Overview**: Implement the training loop for BPE, iteratively finding the most frequent pair, update the corpus by merging all adjacent tokens of that pair, and repeat.\n",
        "    - **Input**: The base vocabulary: `base_vocab`; corpus: `word_freqs`; the splitted corpus: `splits`\n",
        "    - **Output**: `merge_records`, a dictionary with pairs as keys and merged pairs as values. e.g., `{('to', 'y'): 'toy'}`\n",
        "    - **Requirements**:\n",
        "        -   For each iteration of training:\n",
        "          -  Use `compute_pair_freqs()` to get the frequencies and find the most frequent pair\n",
        "          -  Use `merge_pair()` to merge that pair in `splits`\n",
        "          -  Save the learned merge rules in `merges_records`\n",
        "          -  Update the vocabulary\n",
        "          -  Repeat until the size of the vocabulary reach a certain number\n",
        "        - **Use 5000 as the vocab size to pass the autograder, but before that, try using smaller vocab size to test your code.**\n",
        "\n"
      ]
    },
    {
      "cell_type": "code",
      "execution_count": 281,
      "metadata": {
        "id": "MFz8csP8hB4v",
        "colab": {
          "base_uri": "https://localhost:8080/"
        },
        "outputId": "8939cc0f-d0d1-43f6-cca1-5c94a9709fec"
      },
      "outputs": [
        {
          "output_type": "stream",
          "name": "stdout",
          "text": [
            "CPU times: user 14min 10s, sys: 615 ms, total: 14min 11s\n",
            "Wall time: 14min 23s\n"
          ]
        }
      ],
      "source": [
        "###### Part 1: Training ######\n",
        "%%time\n",
        "vocab_size = 5000 # test with smaller vocab size first, 5000 vocab would take 25-30 mins\n",
        "vocab = base_vocab # initialize the base vocabulary\n",
        "merges_records = {} # used to save the learned merge rules, e.g.: {('to', 'y'): 'toy'}\n",
        "splits_copy = copy.deepcopy(splits) # work on a copy so that you can trace back\n",
        "\n",
        "while len(vocab) < vocab_size: # repeat until vocab size reaches 5000 , used internet to help solve\n",
        "\n",
        "    #I'm still kind of new to this concept, but it's really starting to make sense\n",
        "\n",
        "    #we still need to compute pair freqs\n",
        "    # TODO: compute pair frequencies\n",
        "    pair_freqs = defaultdict(int)\n",
        "    for word, tokens in splits_copy.items():\n",
        "      for i in range(len(tokens) -1):\n",
        "        pair_freqs[(tokens[i],tokens[i+1])]+=word_freqs[word] #assigning the frequency to the token pair\n",
        "    #safety net\n",
        "    if not pair_freqs:\n",
        "      break\n",
        "\n",
        "    # TODO: find the most frequent pair\n",
        "    a,b = max(pair_freqs, key=pair_freqs.get)\n",
        "\n",
        "    # TODO: update splits_copy by merging the most frequent pair\n",
        "    splits_copy = merge_pair(a,b,splits_copy)\n",
        "\n",
        "    # TODO: save merge rule\n",
        "    merges_records[(a,b)] = a+b\n",
        "\n",
        "    # TODO: append merged pair to vocab\n",
        "    vocab.append(a+b)"
      ]
    },
    {
      "cell_type": "markdown",
      "source": [
        "Now, our BEP tokenizer is ready to use. To kokenize a string, simply pre-tokenize it and apply all merge rules in `merges_records`.\n",
        "\n",
        "It's very important to know that the tokenization result of BPE tokenizer depends on the merging orders. The BPE algorithm learns the merge rules in a particular order based on the frequencies of subtokens. This ordering is used greedly during the encoding process for new text. That is why we want to iterate over `merges_records` in it's original order and apply merge rules one by one.\n",
        "\n",
        "- **Problem 2.3.5-2**:\n",
        "    - **Overview**: Implment a function `BPE_tokenize()` that takes in raw text and performs BPE tokenization to return a list of tokens.\n",
        "    - **Input**: the text to be tokenized; `merges_records`\n",
        "    - **Output**: a list of strings\n",
        "    - **Requirements**:\n",
        "        - Pre-tokenize the lowercased input text into a list of tokens, **think about which tokenizer to use**\n",
        "        - Split each token in the list to a list of single characters\n",
        "        - Iterate over `merges_records` to apply all merge rules to the splits\n",
        "        - Return updated splits as a list of tokens\n",
        "    - **Example**:\n",
        "\n",
        "    ```\n",
        "    >>> text = 'penpineapple-applepen!'\n",
        "    >>> merges_records = {('i', 'n'): 'in', ('e', 'n'): 'en', ('l', 'e'): 'le',('a', 'p'): 'ap',\\\n",
        "    ('in', 'e'): 'ine', ('p', 'en'): 'pen', ('p', 'le'): 'ple', ('ap', 'ple'): 'apple', ('p', 'ine'): 'pine}\n",
        "    >>> BPE_tokenize(text, merges_records)\n",
        "    []\n",
        "    ```\n",
        "\n"
      ],
      "metadata": {
        "id": "FtjRmrgobSHe"
      }
    },
    {
      "cell_type": "code",
      "source": [
        "###### Part 2: Apply trained tokenizer ######\n",
        "def BPE_tokenize(text, merges_records):\n",
        "    \"\"\"\n",
        "    Use the merges_records to tokenize the input text\n",
        "\n",
        "    @param text: the input text to be tokenized\n",
        "    @return: a list of tokens\n",
        "    \"\"\"\n",
        "    # TODO:\n",
        "\n",
        "    # pre-tokenize the lowercased input text,\n",
        "    # think about which tokenizer to use,\n",
        "    # it should be the same one used to create your `word_freqs`\n",
        "    tokens = nltk_tokenize_content(text.lower())\n",
        "    splits = corpus_splitter({token: 1 for token in tokens})\n",
        "    # TODO: iterate over merges_records and apply all merge rules\n",
        "    for pair,key in merges_records.items():\n",
        "        splits = merge_pair(pair[0], pair[1], splits)\n",
        "    result = []\n",
        "    for tokens in splits.values():\n",
        "      for token in tokens:\n",
        "        result.append(token)\n",
        "    return result"
      ],
      "metadata": {
        "id": "-oO5juG7nNon"
      },
      "execution_count": 282,
      "outputs": []
    },
    {
      "cell_type": "code",
      "source": [
        "### DO NOT CHANGE ###\n",
        "tests = [\n",
        "    \"Antidisestablishmentarianism\",\n",
        "    \"Conversationalization\" ,\n",
        "    \"internationalization\" ,\n",
        "    \"pronominalization\" ,\n",
        "    \"personalization\",\n",
        "    \"Most have seen this as Trump partisanizing the issue, much as he has with masks.\",\n",
        "    \"partisanizing\"\n",
        "]\n",
        "\n",
        "test_results = []\n",
        "for test in tests:\n",
        "    tmp_result = BPE_tokenize(test, merges_records)\n",
        "    test_results.append(tmp_result)\n",
        "    print(tmp_result)\n",
        "### DO NOT CHANGE ###\n",
        "\n",
        "# PennGrader - DO NOT CHANGE\n",
        "grader.grade(test_case_id = 'test_q235_BPE_tokenize_function', answer = test_results)"
      ],
      "metadata": {
        "id": "bmwb3aG0y3kY",
        "colab": {
          "base_uri": "https://localhost:8080/"
        },
        "outputId": "7f259d8e-312d-40c7-c9f5-eb866454a9fb"
      },
      "execution_count": 283,
      "outputs": [
        {
          "output_type": "stream",
          "name": "stdout",
          "text": [
            "['ant', 'id', 'is', 'establish', 'ment', 'arian', 'ism']\n",
            "['con', 'vers', 'ation', 'al', 'ization']\n",
            "['international', 'ization']\n",
            "['pron', 'om', 'inal', 'ization']\n",
            "['personal', 'ization']\n",
            "['seen', 'trump', 'part', 'is', 'an', 'iz', 'ing', 'issue', 'much', 'mas', 'ks']\n",
            "['part', 'is', 'an', 'iz', 'ing']\n",
            "Correct! You earned 15/15 points. You are a star!\n",
            "\n",
            "Your submission has been successfully recorded in the gradebook.\n"
          ]
        }
      ]
    },
    {
      "cell_type": "markdown",
      "source": [
        "# End & Submission\n",
        "### Congratulations on finishing your first homework! Here are the deliverables you need to submit to GradeScope\n",
        "- This notebook and py file: rename to `homework1.ipynb` and `homework1.py`. You can download the notebook and py file by going to the top-left corner of this webpage, `File -> Download -> Download .ipynb/.py`"
      ],
      "metadata": {
        "id": "neYXGkxgkevr"
      }
    }
  ],
  "metadata": {
    "colab": {
      "provenance": []
    },
    "kernelspec": {
      "display_name": "Python 3",
      "name": "python3"
    },
    "language_info": {
      "name": "python"
    }
  },
  "nbformat": 4,
  "nbformat_minor": 0
}